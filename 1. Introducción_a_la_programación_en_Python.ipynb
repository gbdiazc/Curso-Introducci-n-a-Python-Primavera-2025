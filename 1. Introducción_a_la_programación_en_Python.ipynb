{
 "cells": [
  {
   "cell_type": "markdown",
   "metadata": {
    "id": "XVppINJLFEeK"
   },
   "source": [
    "<div style=\"background-color:#f2f2f2; border-left: 8px solid #2e8b57; padding: 20px; border-radius: 10px; font-family: Arial, sans-serif;\">\n",
    "\n",
    "<center>\n",
    "\n",
    "<h1 style=\"color:#2e8b57;\">Introducción a la programación en Python</h1>\n",
    "<h2 style=\"color:#2e8b57;\">Instituto Mexicano del Petróleo</h2>\n",
    "\n",
    "<p style=\"font-size:16px; color:#333;\">\n",
    "<strong>Dra. Gabriela Berenice Díaz Cortés</strong><br>\n",
    "<em>gbdiaz@imp.mx</em>\n",
    "</p>\n",
    "\n",
    "<p style=\"font-size:16px; color:#333;\">\n",
    "<strong>Dr. Luis Antonio López Peña</strong><br>\n",
    "<em>llopezp@imp.mx</em>\n",
    "</p>\n",
    "\n",
    "<p style=\"font-size:15px; color:#555;\">\n",
    "Dirección de Investigación <br>\n",
    "Gerencia de Investigación en Explotación\n",
    "</p>\n",
    "\n",
    "</center>\n",
    "\n",
    "</div>\n"
   ]
  },
  {
   "cell_type": "markdown",
   "metadata": {
    "id": "qSBfyXF1FEpy"
   },
   "source": [
    "## **Introducción a Python**\n",
    "\n",
    "* **Python**\n",
    "    - Instalación de Python\n",
    "    - Formas de ejecutar un código (desde consola o IDE)\n",
    "    - IDE más comunes\n",
    "    - Colaboratory\n",
    "\n",
    "* **Definición de variables**\n",
    "    - Palabras restringidas\n",
    "    - Números enteros y reales\n",
    "    - Carácteres\n",
    "    - Leer datos de terminal\n",
    "    - Conversiones de datos\n",
    "\n",
    "* **Tipos de objetos en Python**\n",
    "    - Tuplas\n",
    "    - Listas\n",
    "    - Diccionarios\n",
    "    - Conjuntos\n"
   ]
  },
  {
   "cell_type": "markdown",
   "metadata": {
    "id": "dY3SBe6gccSy"
   },
   "source": [
    "# Python\n",
    "Python es un lenguaje de programación libre orientado a objetos, desarrollado a finales de los 80's. Desde su creación se sigue desarrollando y refinando. \n",
    "Algunas referencias son:\n",
    "* Sitio web con manuales y más información: https://www.python.org/about/, http://docs.python.org/py3k/tutorial.\n",
    "* Introduction to Python for Computational Science and Engineering, Hans Fangohr\n",
    "* Python, Chris Fehly (Peachpit Press, CA, 2nd ed.)\n",
    "* Python Essential Reference, David M. Beazley (Addison-Wesley, 4th ed.)\n",
    "* Primer on Scientific Programming with Python, Hans P. Langtangen (Springer-Verlag, 2009)"
   ]
  },
  {
   "cell_type": "markdown",
   "metadata": {
    "id": "_w-YkmfWK_FM"
   },
   "source": [
    "## Instalación\n",
    "Para ejecutar un código escrito en Python se recomienda usar un IDE (integrated development environment), es un paquete de software que tiene las herramientas básicas necesarias para escribir y probar software. Los IDE's incluyen un editor de código, un compilador, un depurador y un entorno gráfico. \n",
    "\n",
    "En este curso usaremos la distribución gratuita [Anaconda][], que contiene el IDE Spyder y el block de notas [Jupyter][], que es un ambiente computacional interactivo, en donde se combina texto, se ejecuta codigo, y se obtienen graficas. \n",
    "\n",
    "\n",
    "Los pasos del instalador se encuentran en este sitio [Anaconda_st][]\n",
    "\n",
    "Para utilizar el block de notas [Jupyter][], se pueden consultar los siguientes manuales: [Jupyter_manual] y [Jupyter-notebook].\n",
    "\n",
    "[Spyder]:   https://www.spyder-ide.org/\n",
    "[Anaconda]: https://www.anaconda.com/\n",
    "[Anaconda_st]: https://www.anaconda.com/docs/getting-started/anaconda/install\n",
    "[Jupyter]:  https://docs.jupyter.org/en/latest/\n",
    "[Python 3.7]: https://repo.anaconda.com/archive/Anaconda3-2019.03-MacOSX-x86_64.pkg\n",
    "[Jupyter_manual]: https://docs.jupyter.org/en/latest/\n",
    "[Jupyter-notebook]: https://jupyter-notebook.readthedocs.io/en/v7.3.3/notebook.html\n",
    "\n",
    "\n",
    "### Formas de ejecutar el código \n",
    "\n",
    "## Creación de entornos virtuales\n",
    "\n",
    "Para instalar librerías se recomienda crear un **entorno virtual** e instalar las librerías requeridas para cada proyecto en el entorno correspondiente al proyecto en cuestión.\n",
    "\n",
    "\n",
    "### Entorno virtual en terminal\n",
    "Para crear un entorno virual en linux o en la terminal de windows se abre la terminal, en el caso de windows la terminal se encuentra en *Anaconda Prompt*, una vez abeierta la terminal, los pasos a seguir son los siguientes:\n",
    "\n",
    "<img src=\"https://github.com/gbdiazc/Images/blob/f2031a840a330db98a65ac392e85a34acd040904/anaconda_promt.png?raw=1\" width=\"600\">\n",
    "\n",
    "1.   Crear entorno virtual: \n",
    "\n",
    "`\\$conda create -n my_env`\n",
    "\n",
    "\n",
    "2.   Activar entorno virtual:\n",
    "\n",
    "`\\$conda activate my_env`\n",
    "\n",
    "\n",
    "### Entorno virtual en Anaconda navigator\n",
    "\n",
    "Se crea un entorno virtual con python\n",
    "\n",
    "<img src=\"https://github.com/gbdiazc/Images/blob/da07a190294b9890e4fb4490980932bbec822524/new_env.png?raw=1\" width=\"600\">\n",
    "\n",
    "\n",
    "#### IDEs\n",
    "\n",
    "##### Spyder \n",
    "\n",
    "<img src=\"https://github.com/gbdiazc/Images/blob/da07a190294b9890e4fb4490980932bbec822524/spyder.png?raw=1\" width=\"600\">\n",
    "\n",
    "    \n",
    "    Se guarda el archivo exemplo.py\n",
    "\n",
    "    Boton de correr \n",
    "\n",
    "<img src=\"https://github.com/gbdiazc/Images/blob/da07a190294b9890e4fb4490980932bbec822524/spyder1.png?raw=1\" width=\"600\">\n",
    "\n",
    "Jupyter Notebook (Colaboratory)\n",
    "\n",
    "<img src=\"https://github.com/gbdiazc/Images/blob/main/jupyter-notebook.png?raw=1\" width=\"600\">\n",
    "\n",
    "<img src=\"https://github.com/gbdiazc/Images/blob/main//notebook.png?raw=1\" width=\"600\">\n",
    "    \n",
    "    Se crea el archivo file.ipynb\n",
    "    \n",
    "    Se crea una nueva celda de código\n",
    "\n",
    "    Boton de correr \n",
    "\n",
    "\n",
    "\n",
    "#### Desde consola (linux) con archivos .py\n",
    "\n",
    "    Se crea el archivo file.py\n",
    "\n",
    "    Se carga el ambiente virtual que contiene python\n",
    "\n",
    "    Se escribe en terminal \n",
    "        \n",
    "        python file.py\n"
   ]
  },
  {
   "cell_type": "markdown",
   "metadata": {
    "id": "SrRglGUcK_FO"
   },
   "source": [
    "# Palabras restringidas\n",
    "\n",
    "Los lenguajes de programación reservan ciertas palabras que tienen un significado especial. Estas palabras se llaman palabras clave \"keywords\".\n",
    "Con estas palabras el programador puede emitir comandos para el compilador o intérprete, estas palabras clave son palabras reservadas que no sepueden usar como nombres de variables.\n",
    "Las palabras clave más importantes de Python son las siguientes:\n",
    "\n",
    "\\begin{array}{c c c c} \n",
    "False & True& and & or   \\\\ \n",
    "not & break & continue & class\\\\\n",
    "def & if & elif & else \\\\ \n",
    "for & while & in & is\\\\ \n",
    "None & lambda& return& len\\\\\n",
    "del & type & str & float\\\\\n",
    "int &  &  & \\\\\n",
    "\\end{array}"
   ]
  },
  {
   "cell_type": "code",
   "execution_count": null,
   "metadata": {
    "colab": {
     "base_uri": "https://localhost:8080/"
    },
    "id": "kVyH35k7K_FP",
    "outputId": "bb8bc484-9a49-4c7e-d1f8-dd19f3d9dfc2"
   },
   "outputs": [],
   "source": [
    "1 > 2"
   ]
  },
  {
   "cell_type": "code",
   "execution_count": null,
   "metadata": {
    "colab": {
     "base_uri": "https://localhost:8080/"
    },
    "id": "qx1lviAhK_FQ",
    "outputId": "c569c6c5-2da1-4515-bae2-6df7db851922"
   },
   "outputs": [],
   "source": [
    "2 > 1"
   ]
  },
  {
   "cell_type": "code",
   "execution_count": null,
   "metadata": {
    "colab": {
     "base_uri": "https://localhost:8080/"
    },
    "id": "x5eMTgGfK_FR",
    "outputId": "f3903302-a1da-4a8a-aefa-59f382e12abd"
   },
   "outputs": [],
   "source": [
    "x, y = True , False\n",
    "(x or y) "
   ]
  },
  {
   "cell_type": "code",
   "execution_count": null,
   "metadata": {
    "colab": {
     "base_uri": "https://localhost:8080/"
    },
    "id": "PIo0vYW7K_FS",
    "outputId": "c7823c47-1784-40f2-e9b0-293a800d69e3"
   },
   "outputs": [],
   "source": [
    "(x and y)"
   ]
  },
  {
   "cell_type": "code",
   "execution_count": null,
   "metadata": {
    "colab": {
     "base_uri": "https://localhost:8080/"
    },
    "id": "IYG6k4MuK_FT",
    "outputId": "23c9ede9-70a3-4e07-99c0-991d2b14d752"
   },
   "outputs": [],
   "source": [
    "( not y)"
   ]
  },
  {
   "cell_type": "code",
   "execution_count": null,
   "metadata": {
    "colab": {
     "base_uri": "https://localhost:8080/"
    },
    "id": "JfIH6MMfK_FU",
    "outputId": "5a75da22-7f91-413c-eecb-d7e4e92177f9"
   },
   "outputs": [],
   "source": [
    "42 in [ 2 , 39 , 42 ] "
   ]
  },
  {
   "cell_type": "code",
   "execution_count": null,
   "metadata": {
    "colab": {
     "base_uri": "https://localhost:8080/"
    },
    "id": "YcV6xn0LK_FW",
    "outputId": "4b3a4b49-bda5-4109-f311-0b993b2397ba"
   },
   "outputs": [],
   "source": [
    "y = x = 3\n",
    "x is y"
   ]
  },
  {
   "cell_type": "code",
   "execution_count": null,
   "metadata": {
    "colab": {
     "base_uri": "https://localhost:8080/"
    },
    "id": "-NyFJAPLK_FW",
    "outputId": "b7723998-1fc4-44d3-bb37-82915681f17b"
   },
   "outputs": [],
   "source": [
    "[3] is [3]"
   ]
  },
  {
   "cell_type": "code",
   "execution_count": null,
   "metadata": {
    "colab": {
     "base_uri": "https://localhost:8080/"
    },
    "id": "6STsPSAu6Dh4",
    "outputId": "48814411-8caf-4828-d618-c20b8177d4f9"
   },
   "outputs": [],
   "source": [
    "[3] == [3]"
   ]
  },
  {
   "cell_type": "code",
   "execution_count": null,
   "metadata": {
    "colab": {
     "base_uri": "https://localhost:8080/"
    },
    "id": "NCxjRd9kK_FX",
    "outputId": "a2cae6c3-ee16-4a5f-885e-d9db1b30f3cb"
   },
   "outputs": [],
   "source": [
    "[1] in [[3],[2]]"
   ]
  },
  {
   "cell_type": "code",
   "execution_count": null,
   "metadata": {
    "colab": {
     "base_uri": "https://localhost:8080/"
    },
    "id": "eOvAzMzwK_FY",
    "outputId": "ea81bdda-a4b7-4b69-c1f0-03180e80a44d"
   },
   "outputs": [],
   "source": [
    "3 in [3]"
   ]
  },
  {
   "cell_type": "code",
   "execution_count": null,
   "metadata": {
    "colab": {
     "base_uri": "https://localhost:8080/"
    },
    "id": "iOqjMTyVK_FY",
    "outputId": "8ac21f5d-fff8-429b-c995-ff44fd6e464c"
   },
   "outputs": [],
   "source": [
    "len([ 2 , 39 , 42, 2 ] )"
   ]
  },
  {
   "cell_type": "markdown",
   "metadata": {
    "id": "Kg_xz6dXK_FZ"
   },
   "source": [
    "## Definición de variables\n",
    "En python se pueden usar variables tipo entero, flotantes, caractéres, etc. Para definir una variable como flotante se usa un punto (__numero.0__ ), y para caractéres se usan comillas (**'carácter'** o **''carácter''**). Para ver que tipo de variable es, se utiliza la funcyón **type**."
   ]
  },
  {
   "cell_type": "code",
   "execution_count": null,
   "metadata": {
    "colab": {
     "base_uri": "https://localhost:8080/"
    },
    "id": "RX8cuhtgK_FZ",
    "outputId": "d2bce779-a910-4d10-9a68-7c4b41b02d55"
   },
   "outputs": [],
   "source": [
    "b = 2        # b entero\n",
    "print(b, type(b))"
   ]
  },
  {
   "cell_type": "code",
   "execution_count": null,
   "metadata": {
    "colab": {
     "base_uri": "https://localhost:8080/"
    },
    "id": "Br0Gj9e_K_FZ",
    "outputId": "4a3dad3f-dcf6-4b47-edd7-451c6cc74b41"
   },
   "outputs": [],
   "source": [
    "b = 2.0      # b flotante \n",
    "print(b, type(b))"
   ]
  },
  {
   "cell_type": "code",
   "execution_count": null,
   "metadata": {
    "colab": {
     "base_uri": "https://localhost:8080/"
    },
    "id": "4-xsTxtjK_Fa",
    "outputId": "d9f3b9d0-1fe7-4d38-8c4b-aedc36a5d3f1"
   },
   "outputs": [],
   "source": [
    "b = '2.0'  # b es un caracter \n",
    "print(b, type(b))"
   ]
  },
  {
   "cell_type": "markdown",
   "metadata": {
    "id": "rdMHZViUK_Fb"
   },
   "source": [
    "**Ejercicio**\n",
    "Asignar el valor 2 a la variable x y el valor 3 a la variable y e imprimirlas\n",
    "\n",
    "Sumar ambas variables en z e imprimirla\n",
    "\n",
    "Borrar la variable x e imprimir todas las variables"
   ]
  },
  {
   "cell_type": "code",
   "execution_count": null,
   "metadata": {
    "colab": {
     "base_uri": "https://localhost:8080/"
    },
    "id": "xDtfSAXIHZl9",
    "outputId": "a33dfd36-3069-4b5c-dbba-80d1cf229f64"
   },
   "outputs": [],
   "source": [
    "# Respuesta\n"
   ]
  },
  {
   "cell_type": "code",
   "execution_count": null,
   "metadata": {
    "colab": {
     "base_uri": "https://localhost:8080/"
    },
    "id": "n_0ld-bdIH8X",
    "outputId": "d87655f1-6e6f-4a79-91ce-16bcc10e68e5"
   },
   "outputs": [],
   "source": []
  },
  {
   "cell_type": "code",
   "execution_count": null,
   "metadata": {
    "colab": {
     "base_uri": "https://localhost:8080/",
     "height": 217
    },
    "id": "nFPqHyCOIIlv",
    "outputId": "baa19a0b-2ba1-4e14-b9ef-d1a772ddd212"
   },
   "outputs": [],
   "source": []
  },
  {
   "cell_type": "markdown",
   "metadata": {
    "id": "xJNWAh5FK_Fb"
   },
   "source": [
    "**Ejercicio**\n",
    "Dados x = 10 and y = 3, calcular las siguientes operaciones e imprimir los resultados\n",
    "\n",
    "```\n",
    "u = x + y\n",
    "v = x*y\n",
    "w = x/y\n",
    "z = x - y\n",
    "r = x**2\n",
    "s = y*3\n",
    "p = x**y\n",
    "```"
   ]
  },
  {
   "cell_type": "code",
   "execution_count": null,
   "metadata": {
    "colab": {
     "base_uri": "https://localhost:8080/"
    },
    "id": "JK2eYCIuK_Fc",
    "outputId": "82f13e50-3543-497c-c67a-98a13daffd6e"
   },
   "outputs": [],
   "source": [
    "# Respuesta\n"
   ]
  },
  {
   "cell_type": "markdown",
   "metadata": {
    "id": "L_xFNoOwK_Fc"
   },
   "source": [
    "**Ejercicio**\n",
    "Contar el número de letras que tiene la siguiente oración e imprimir la oración, seguida del número de letras que tiene, \n",
    "\n",
    "    x = \"Instituto Mexicano del Petróleo\" \n",
    "    \n",
    "    y = \"Tu nombre completo\""
   ]
  },
  {
   "cell_type": "code",
   "execution_count": null,
   "metadata": {
    "colab": {
     "base_uri": "https://localhost:8080/"
    },
    "id": "3Dnqg_XbK_Fd",
    "outputId": "5b3990cb-5972-4310-a36a-c9ca35a2cdde"
   },
   "outputs": [],
   "source": [
    "# Respuesta\n"
   ]
  },
  {
   "cell_type": "code",
   "execution_count": null,
   "metadata": {
    "colab": {
     "base_uri": "https://localhost:8080/"
    },
    "id": "ShN4bKxXJGRI",
    "outputId": "4a2463f0-bc2b-4c1a-f99e-0ba138afb535"
   },
   "outputs": [],
   "source": []
  },
  {
   "cell_type": "markdown",
   "metadata": {
    "id": "bwoMUqF2K_Fd"
   },
   "source": [
    "### Caracteres (Strings)\n",
    "Los caracteres se pueden crear de las siguientes formas"
   ]
  },
  {
   "cell_type": "markdown",
   "metadata": {
    "id": "heRheAjFK_Fd"
   },
   "source": [
    "1. Comillas simples\n",
    "\n",
    "**s = 'caracter'**\n",
    "\n",
    "2. Comillas dobles\n",
    "\n",
    "**s =  \"caracter\"**\n",
    "\n",
    "3. Comillas triples (multi-linea)\n",
    "**s = \n",
    "\"\"\"caracter**\n",
    "\n",
    "**numero uno\"\"\"**\n",
    "\n",
    "4. Metodo de caracter\n",
    "\n",
    "**s = str(5 ) ==  '5'**\n",
    "\n",
    "5. Concatenacion\n",
    "\n",
    "**s =\"Nom\" +  \"bre\"**"
   ]
  },
  {
   "cell_type": "code",
   "execution_count": null,
   "metadata": {
    "colab": {
     "base_uri": "https://localhost:8080/"
    },
    "id": "QvR9hImxK_Fe",
    "outputId": "a39a2ab2-629a-4b83-f0d5-fbb232ca2c7e"
   },
   "outputs": [],
   "source": [
    "#1. Comillas simples\n",
    "\n",
    "s = 'caracter'\n",
    "\n",
    "print(s,type(s))"
   ]
  },
  {
   "cell_type": "code",
   "execution_count": null,
   "metadata": {
    "colab": {
     "base_uri": "https://localhost:8080/"
    },
    "id": "xxpQyEUyK_Fe",
    "outputId": "411e65c3-b8ce-46e8-ccdf-6330d4539ee2"
   },
   "outputs": [],
   "source": [
    "#2. Comillas dobles\n",
    "\n",
    "s =  \"caracter\"\n",
    "\n",
    "print(s,type(s))"
   ]
  },
  {
   "cell_type": "code",
   "execution_count": null,
   "metadata": {
    "colab": {
     "base_uri": "https://localhost:8080/"
    },
    "id": "rzTFt7qpK_Fe",
    "outputId": "767cebc6-e22f-4cfd-b619-b78ad1c21af3"
   },
   "outputs": [],
   "source": [
    "#3. Comillas triples (multi-linea)\n",
    "\n",
    "s = \"\"\"Este es un caracter\n",
    "\n",
    "Para un \n",
    "\n",
    "texto mas \n",
    "\n",
    "largo\"\"\"\n",
    "\n",
    "print(s,type(s))"
   ]
  },
  {
   "cell_type": "code",
   "execution_count": null,
   "metadata": {
    "colab": {
     "base_uri": "https://localhost:8080/"
    },
    "id": "SH6W8rd2K_Ff",
    "outputId": "0b7f7f1c-6215-495a-f533-7a8cb807481a"
   },
   "outputs": [],
   "source": [
    "#4. Metodo de caracter\n",
    "n = 5\n",
    "print(n,type(n))\n",
    "s =  str(n)\n",
    "print(s,type(s))\n",
    "t = str(2)\n",
    "print(int(s)+int(t))"
   ]
  },
  {
   "cell_type": "code",
   "execution_count": null,
   "metadata": {
    "colab": {
     "base_uri": "https://localhost:8080/"
    },
    "id": "fbFplDGfK_Ff",
    "outputId": "c80d80ab-96ff-4fca-ecbd-f625093129fc"
   },
   "outputs": [],
   "source": [
    "# 5. Concatenacion\n",
    "\n",
    "s =\"Ma\" +  \"rio\"\n",
    "\n",
    "print(s,type(s))"
   ]
  },
  {
   "cell_type": "markdown",
   "metadata": {
    "id": "q0WxSQIkK_Ff"
   },
   "source": [
    "# Espacios en blanco\n",
    "\n",
    "    * Línea Nueva línea \\n\n",
    "    * Tab \\t"
   ]
  },
  {
   "cell_type": "code",
   "execution_count": null,
   "metadata": {
    "colab": {
     "base_uri": "https://localhost:8080/"
    },
    "id": "ZA8QMdCdK_Ff",
    "outputId": "34753ea7-fff9-490e-9c5e-ae5cf85963c5"
   },
   "outputs": [],
   "source": [
    "s =\"Nombre: Mario, Edad: 5\"\n",
    "\n",
    "print(s)"
   ]
  },
  {
   "cell_type": "code",
   "execution_count": null,
   "metadata": {
    "colab": {
     "base_uri": "https://localhost:8080/"
    },
    "id": "vKuScZfUK_Fg",
    "outputId": "38863872-ccf2-415c-d8ae-0d374d22ba9c"
   },
   "outputs": [],
   "source": [
    "s =\"Nombre: Mario,\\nEdad:\\t 5\"\n",
    "\n",
    "print(s)"
   ]
  },
  {
   "cell_type": "code",
   "execution_count": null,
   "metadata": {
    "colab": {
     "base_uri": "https://localhost:8080/"
    },
    "id": "ZypTQw9tK_Fg",
    "outputId": "d6bf4100-7cd3-4ce6-ca9b-fd6460394fb9"
   },
   "outputs": [],
   "source": [
    "## Indexing & Slicing\n",
    "s = \"La persona más joven tiene 11 años\"\n",
    "print(s[0])"
   ]
  },
  {
   "cell_type": "code",
   "execution_count": null,
   "metadata": {
    "colab": {
     "base_uri": "https://localhost:8080/"
    },
    "id": "ZRD1zc7GK_Fg",
    "outputId": "1067f82f-10d7-4b3f-e204-237c86162757"
   },
   "outputs": [],
   "source": [
    "print(s[0:4])"
   ]
  },
  {
   "cell_type": "code",
   "execution_count": null,
   "metadata": {
    "colab": {
     "base_uri": "https://localhost:8080/",
     "height": 35
    },
    "id": "E1CQUuMVVRZ2",
    "outputId": "203cdf09-84a6-4c0c-c5cb-e2ef426b650b"
   },
   "outputs": [],
   "source": [
    "print(s[-1])"
   ]
  },
  {
   "cell_type": "code",
   "execution_count": null,
   "metadata": {
    "colab": {
     "base_uri": "https://localhost:8080/"
    },
    "id": "saDaBfITK_Fh",
    "outputId": "6904b409-b640-4895-ba69-bc81fb147639"
   },
   "outputs": [],
   "source": [
    "print(s[-3:-1])"
   ]
  },
  {
   "cell_type": "code",
   "execution_count": null,
   "metadata": {
    "colab": {
     "base_uri": "https://localhost:8080/"
    },
    "id": "0NVezqkzK_Fh",
    "outputId": "41d7e626-108a-4534-9269-3248aea1d350"
   },
   "outputs": [],
   "source": [
    "print(s[-2:])"
   ]
  },
  {
   "cell_type": "code",
   "execution_count": null,
   "metadata": {
    "colab": {
     "base_uri": "https://localhost:8080/"
    },
    "id": "yKIt9NpGK_Fh",
    "outputId": "c7f40f0d-a815-48b4-c1ef-a86d73a1941c"
   },
   "outputs": [],
   "source": [
    "x = s.split()\n",
    "print(x)"
   ]
  },
  {
   "cell_type": "code",
   "execution_count": null,
   "metadata": {
    "colab": {
     "base_uri": "https://localhost:8080/"
    },
    "id": "AnNAKs4SK_Fh",
    "outputId": "8c796a9f-dde3-4b41-e539-29b7d06b999a"
   },
   "outputs": [],
   "source": [
    "print(x[-2] + \" \"+ x[-1] + \" \"+x[-3] + \"s\")"
   ]
  },
  {
   "cell_type": "code",
   "execution_count": null,
   "metadata": {
    "colab": {
     "base_uri": "https://localhost:8080/"
    },
    "id": "gv6N-yUAK_Fi",
    "outputId": "bbaff133-c9c9-41ad-f809-314974a0acef"
   },
   "outputs": [],
   "source": [
    "import re # regular expressions\n",
    "m = re.split(r'\\W+', s)\n",
    "print(m)"
   ]
  },
  {
   "cell_type": "code",
   "execution_count": null,
   "metadata": {
    "colab": {
     "base_uri": "https://localhost:8080/",
     "height": 35
    },
    "id": "ZKKuKn6MK_Fi",
    "outputId": "a3f3d4ed-2acc-4a3f-90b1-e77c91813cd3"
   },
   "outputs": [],
   "source": [
    "m[0]"
   ]
  },
  {
   "cell_type": "code",
   "execution_count": null,
   "metadata": {
    "colab": {
     "base_uri": "https://localhost:8080/"
    },
    "id": "-K89FBQ_K_Fi",
    "outputId": "394c8d94-bb3d-45dd-f655-3fd1afc90ef2"
   },
   "outputs": [],
   "source": [
    "m[0:3]"
   ]
  },
  {
   "cell_type": "code",
   "execution_count": null,
   "metadata": {
    "colab": {
     "base_uri": "https://localhost:8080/"
    },
    "id": "FA0hkm0dK_Fi",
    "outputId": "e82191d6-ccd0-4174-f27a-8b1bbdaa5faa"
   },
   "outputs": [],
   "source": [
    "m[-3:-1]"
   ]
  },
  {
   "cell_type": "code",
   "execution_count": null,
   "metadata": {
    "colab": {
     "base_uri": "https://localhost:8080/"
    },
    "id": "IccjGhNYK_Fj",
    "outputId": "c43584d0-8083-4721-9cfd-4d757ee49af6"
   },
   "outputs": [],
   "source": [
    "m[-3:]"
   ]
  },
  {
   "cell_type": "code",
   "execution_count": null,
   "metadata": {
    "colab": {
     "base_uri": "https://localhost:8080/"
    },
    "id": "xR2wgY2NK_Fj",
    "outputId": "913b5c44-2bf0-4db4-d9dd-785a225b06a4"
   },
   "outputs": [],
   "source": [
    "s = m[0]+m[1]\n",
    "print(s)"
   ]
  },
  {
   "cell_type": "code",
   "execution_count": null,
   "metadata": {
    "colab": {
     "base_uri": "https://localhost:8080/"
    },
    "id": "nyQ4MjTfK_Fj",
    "outputId": "0275948f-c852-41a4-f6a1-b9b2f3a83fb4"
   },
   "outputs": [],
   "source": [
    "s = m[0]+\" \"+ m[1]\n",
    "print(s)"
   ]
  },
  {
   "cell_type": "code",
   "execution_count": null,
   "metadata": {
    "colab": {
     "base_uri": "https://localhost:8080/"
    },
    "id": "ynzT9yTYK_Fj",
    "outputId": "2fdcd919-1b60-4cd7-db58-f98986f1fecc"
   },
   "outputs": [],
   "source": [
    "# Minusculas\n",
    "s = \"La persona más joven tiene 11 años\"\n",
    "print(s.lower())"
   ]
  },
  {
   "cell_type": "code",
   "execution_count": null,
   "metadata": {
    "colab": {
     "base_uri": "https://localhost:8080/"
    },
    "id": "RfTCrzvkK_Fk",
    "outputId": "6f7b5ea5-531d-46d3-87fe-58c8540589e7"
   },
   "outputs": [],
   "source": [
    "# Mayusculas\n",
    "print(s.upper())"
   ]
  },
  {
   "cell_type": "code",
   "execution_count": null,
   "metadata": {
    "colab": {
     "base_uri": "https://localhost:8080/"
    },
    "id": "egY9d57_K_Fk",
    "outputId": "5d13410a-5b4b-47b7-e3bc-8e78be706f66"
   },
   "outputs": [],
   "source": [
    "s = \"smartphone\"\n",
    "print(s.startswith(\"smart\" ))"
   ]
  },
  {
   "cell_type": "code",
   "execution_count": null,
   "metadata": {
    "colab": {
     "base_uri": "https://localhost:8080/"
    },
    "id": "__IwJpAZK_Fk",
    "outputId": "b3fded9b-d652-46f7-dd28-c0c3db673c63"
   },
   "outputs": [],
   "source": [
    "print(s.endswith(\"phone\"))"
   ]
  },
  {
   "cell_type": "code",
   "execution_count": null,
   "metadata": {
    "colab": {
     "base_uri": "https://localhost:8080/"
    },
    "id": "RJ1-hxFEK_Fm",
    "outputId": "47903b1e-495d-44e6-db30-911315833901"
   },
   "outputs": [],
   "source": [
    "s = \"another\"\n",
    "print(s.find(\"other\"))"
   ]
  },
  {
   "cell_type": "code",
   "execution_count": null,
   "metadata": {
    "colab": {
     "base_uri": "https://localhost:8080/"
    },
    "id": "NgFvwbpEK_Fm",
    "outputId": "107bc1b5-f76e-4c3f-8a4a-c4547d1dc03d"
   },
   "outputs": [],
   "source": [
    "print(s[2:])"
   ]
  },
  {
   "cell_type": "code",
   "execution_count": null,
   "metadata": {
    "colab": {
     "base_uri": "https://localhost:8080/"
    },
    "id": "tTm4RDz3K_Fm",
    "outputId": "0d213fca-149b-4b9d-a1ca-e5792833a831"
   },
   "outputs": [],
   "source": [
    "s = \"chechatch\"\n",
    "print(s.replace(\"ch\", \"m\"))"
   ]
  },
  {
   "cell_type": "code",
   "execution_count": null,
   "metadata": {
    "colab": {
     "base_uri": "https://localhost:8080/"
    },
    "id": "HA_xZZMaK_Fm",
    "outputId": "417bb160-7d3c-4d0e-cf7d-54edfd18ff9c"
   },
   "outputs": [],
   "source": [
    "print(''.join([\"F\", \"B\", \"I\"]))"
   ]
  },
  {
   "cell_type": "code",
   "execution_count": null,
   "metadata": {
    "colab": {
     "base_uri": "https://localhost:8080/"
    },
    "id": "Mw9bjxc1K_Fn",
    "outputId": "7b60f316-5817-4fb0-fdb7-42599a10cd0a"
   },
   "outputs": [],
   "source": [
    "print(len(\"earth\"))"
   ]
  },
  {
   "cell_type": "code",
   "execution_count": null,
   "metadata": {
    "colab": {
     "base_uri": "https://localhost:8080/"
    },
    "id": "tucS3cPPK_Fn",
    "outputId": "7d0f3647-79b3-4370-b563-309a80adc2b7"
   },
   "outputs": [],
   "source": [
    "print(\"ear\"in\"earth\")"
   ]
  },
  {
   "cell_type": "markdown",
   "metadata": {
    "id": "nw8HJYF1K_Fn"
   },
   "source": [
    "**Ejercicio**\n",
    "Asigne la cadena 'HOLA' a la variable s1 y la cadena 'hola' a la variable s2. Usa el operador *==* para mostrar que no son iguales. \n",
    "\n",
    "Mostrar que s1 y s2 son iguales si se usa el método *s1.lower()* en s1. \n",
    "\n",
    "Mostrar que s1 y s2 son iguales si se usa el método *s2.upper()* en s2"
   ]
  },
  {
   "cell_type": "code",
   "execution_count": null,
   "metadata": {
    "colab": {
     "base_uri": "https://localhost:8080/"
    },
    "id": "1boNYXDTK_Ft",
    "outputId": "7c90b6a9-ffa7-482c-b953-7daaa786fb93"
   },
   "outputs": [],
   "source": [
    "# Respuesta\n"
   ]
  },
  {
   "cell_type": "code",
   "execution_count": null,
   "metadata": {
    "colab": {
     "base_uri": "https://localhost:8080/"
    },
    "id": "v3avRdG8JRwV",
    "outputId": "f138ea57-d1d7-4cd0-ac7c-d00099fb6015"
   },
   "outputs": [],
   "source": []
  },
  {
   "cell_type": "code",
   "execution_count": null,
   "metadata": {
    "colab": {
     "base_uri": "https://localhost:8080/"
    },
    "id": "QIpqp_VEJTLE",
    "outputId": "fe140a3e-2408-45c1-ef33-85f484c6a924"
   },
   "outputs": [],
   "source": []
  },
  {
   "cell_type": "markdown",
   "metadata": {
    "id": "tvSDm0NRK_Ft"
   },
   "source": [
    "## Leer datos de terminal\n",
    "En python se pueden leer datos de teclado con la función **input()**. \n",
    "Esta funcion lee todo como cadenas de texto."
   ]
  },
  {
   "cell_type": "code",
   "execution_count": null,
   "metadata": {
    "colab": {
     "base_uri": "https://localhost:8080/"
    },
    "id": "PMfU7YmHK_Fu",
    "outputId": "f3cd2f76-5cd6-4f13-ff28-4d4627e82061"
   },
   "outputs": [],
   "source": [
    "# Leer texto\n",
    "texto = input()\n",
    "print(\"Se leyo el siguiente texto: \",texto)\n",
    "print(\"De tipo \",type(texto))"
   ]
  },
  {
   "cell_type": "code",
   "execution_count": null,
   "metadata": {
    "colab": {
     "base_uri": "https://localhost:8080/"
    },
    "id": "J7kmC30yK_Fu",
    "outputId": "b116340e-05d5-453c-9c95-87558b95c1b7"
   },
   "outputs": [],
   "source": [
    "# Además, la función input puede tener un parámetro indicando al usuario que debe ingresar\n",
    "mes = input(\"Ingrese mes: \")\n",
    "print(\"Se leyo el siguiente mes: \",mes)\n",
    "print(\"De tipo \",type(mes))"
   ]
  },
  {
   "cell_type": "markdown",
   "metadata": {
    "id": "Hx-E-N-EK_Fv"
   },
   "source": [
    "# CASTING (Conversiones de tipo de dato)\n",
    "Si la función **input()** lee un texto y queremos que lo convierta en entero, se hace una conversion con la funcion **int()**."
   ]
  },
  {
   "cell_type": "code",
   "execution_count": null,
   "metadata": {
    "colab": {
     "base_uri": "https://localhost:8080/"
    },
    "id": "ppH_Kf8WK_Fv",
    "outputId": "d1ba919b-6173-43fa-e23a-de0c3576820e"
   },
   "outputs": [],
   "source": [
    "numero = input()\n",
    "print(\"Se leyo: \",numero)\n",
    "print(\"De tipo \",type(numero))"
   ]
  },
  {
   "cell_type": "code",
   "execution_count": null,
   "metadata": {
    "colab": {
     "base_uri": "https://localhost:8080/"
    },
    "id": "zu1Q4rpFK_Fv",
    "outputId": "0311e1cb-c2f6-426d-fde1-429459b8ac34"
   },
   "outputs": [],
   "source": [
    "# Se convierte en entero\n",
    "entero = int(numero)\n",
    "print(\"El numero leido : \",entero)\n",
    "print(\"Se convirtio en tipo \",type(entero))"
   ]
  },
  {
   "cell_type": "code",
   "execution_count": null,
   "metadata": {
    "colab": {
     "base_uri": "https://localhost:8080/"
    },
    "id": "pUgAYPuVK_Fw",
    "outputId": "e260e47b-7304-4baf-d36a-166c9ae62de4"
   },
   "outputs": [],
   "source": [
    "# Version simplificada\n",
    "entero = int(input())\n",
    "print(\"El numero leido : \",entero)\n",
    "print(\"Se convirtio en tipo \",type(entero))"
   ]
  },
  {
   "cell_type": "markdown",
   "metadata": {
    "id": "ohZOhzbWK_Fw"
   },
   "source": [
    "Si queremos que lo convierta en decimales, se hace una conversion con la funcion **float()**."
   ]
  },
  {
   "cell_type": "code",
   "execution_count": null,
   "metadata": {
    "colab": {
     "base_uri": "https://localhost:8080/"
    },
    "id": "usB_wB3mK_Fw",
    "outputId": "b4d7cdd1-8d99-4dfc-c932-09f7555b514c"
   },
   "outputs": [],
   "source": [
    "numero = input()\n",
    "print(\"El numero leido : \",numero)\n",
    "print(\"Es de tipo \",type(numero))\n",
    "\n",
    "decimal = float(numero)\n",
    "print(\"El numero leido en decimal: \",decimal)\n",
    "print(\"Se convirtio en tipo \",type(decimal))"
   ]
  },
  {
   "cell_type": "code",
   "execution_count": null,
   "metadata": {
    "colab": {
     "base_uri": "https://localhost:8080/"
    },
    "id": "A83ph5WvK_Fw",
    "outputId": "867da4a7-003f-4aee-fba7-b592a38f8f78"
   },
   "outputs": [],
   "source": [
    "# Version simplificada\n",
    "decimal = float( input())\n",
    "print(\"Numero leido : \",decimal)\n",
    "print(\"Se convirtio en tipo \",type(decimal))"
   ]
  },
  {
   "cell_type": "markdown",
   "metadata": {
    "id": "IkLbS7O1FKdJ"
   },
   "source": [
    "**Ejercicio**\n",
    "Realiza un código que tome 2 numeros dados por un usuario y verifique si la suma es menor, mayor o igual que 5"
   ]
  },
  {
   "cell_type": "code",
   "execution_count": null,
   "metadata": {
    "colab": {
     "base_uri": "https://localhost:8080/"
    },
    "id": "oL4LaLcBFJOI",
    "outputId": "06a15e39-4a5d-4a5a-84da-70677e7c6045"
   },
   "outputs": [],
   "source": [
    "# Respuesta\n"
   ]
  },
  {
   "cell_type": "code",
   "execution_count": null,
   "metadata": {
    "colab": {
     "base_uri": "https://localhost:8080/"
    },
    "id": "Z3WcFTNxdu5h",
    "outputId": "b2ed8186-a689-45cf-977b-b97c72d9b458"
   },
   "outputs": [],
   "source": []
  },
  {
   "cell_type": "markdown",
   "metadata": {
    "id": "6Oy800-FK_Fw"
   },
   "source": [
    "**Ejercicio**\n",
    "Realizar un código que lea dos números de terminal y una operación, y que imprima la operación que se está realizando, asi como los resultados, elegir una de las siguientes operaciones:\n",
    "\n",
    "    \"+\"\n",
    "\n",
    "    \"-\"\n",
    "\n",
    "    \"*\"\n",
    "    \n",
    "    \"/\""
   ]
  },
  {
   "cell_type": "code",
   "execution_count": null,
   "metadata": {
    "colab": {
     "base_uri": "https://localhost:8080/"
    },
    "id": "M4ZALMmHK_Fx",
    "outputId": "83dbe142-7964-4e79-f97f-bdae7dc50841"
   },
   "outputs": [],
   "source": [
    "# Respuesta\n",
    "\n"
   ]
  },
  {
   "cell_type": "markdown",
   "metadata": {
    "id": "je5F_bu5K_Fx"
   },
   "source": [
    "# Objetos en Python\n",
    "Python tiene dos tipos de objetos para manejar varios números o secuencias de caractéres.\n",
    "* **Listas: b = [0, 1, 2, 3, 'cuatro', 'cinco']**\n",
    "* **Tuplas (Tuples): b = (0, 1, 2, 3, 4, 5)**\n",
    "\n",
    "En Python, el primer elemento es el cero **(0)**, si la lista o el carácter contiene **(N)** elementos, el último elemento es el __N-1__. Un elemento de una lista o un carácter se obtiene usando parentesis cuadrados **(variable[numero de elemento])**. La principal diferencia entre una tupla y una lista, es que las tuplas son inmutables, es decir nos e pueden modificar.  \n"
   ]
  },
  {
   "cell_type": "code",
   "execution_count": null,
   "metadata": {
    "colab": {
     "base_uri": "https://localhost:8080/"
    },
    "id": "v2jcjl9KK_Fx",
    "outputId": "d579d296-78fc-41ab-bfdf-7c80304d45b1"
   },
   "outputs": [],
   "source": [
    "# Listas\n",
    "List  = ['string', 1, 2]               # Crear una lista\n",
    "print(List)\n"
   ]
  },
  {
   "cell_type": "code",
   "execution_count": null,
   "metadata": {
    "colab": {
     "base_uri": "https://localhost:8080/"
    },
    "id": "qCt6L0zNK_Fx",
    "outputId": "c2d31972-89ca-4f79-96f0-07cddda5759a"
   },
   "outputs": [],
   "source": [
    "print(List[0],type(List[0]))           # Selecciona el primer elemento de la lista\n"
   ]
  },
  {
   "cell_type": "code",
   "execution_count": null,
   "metadata": {
    "colab": {
     "base_uri": "https://localhost:8080/"
    },
    "id": "2ABse8cIK_Fx",
    "outputId": "79ce967a-a8e6-47b6-b8e7-bb8428dafae9"
   },
   "outputs": [],
   "source": [
    "print(List[2],type(List[2]))           # Selecciona el último elemento de la lista\n"
   ]
  },
  {
   "cell_type": "code",
   "execution_count": null,
   "metadata": {
    "colab": {
     "base_uri": "https://localhost:8080/"
    },
    "id": "JSKrNsXzK_Fy",
    "outputId": "2024a549-c48d-48c1-d699-e8e8f935bb94"
   },
   "outputs": [],
   "source": [
    "print(List[0:2])                       # Selecciona los primeros dos elementos con posición 0 y 2 sin el último elemento (2)\n"
   ]
  },
  {
   "cell_type": "code",
   "execution_count": null,
   "metadata": {
    "colab": {
     "base_uri": "https://localhost:8080/"
    },
    "id": "r9rdmlVOK_Fy",
    "outputId": "5a866725-4a74-48b4-90aa-00a4fae79c7f"
   },
   "outputs": [],
   "source": [
    "List2 = [[3, 4],List]                  # Hacer una lista de listas\n",
    "print(List2 )"
   ]
  },
  {
   "cell_type": "code",
   "execution_count": null,
   "metadata": {
    "colab": {
     "base_uri": "https://localhost:8080/"
    },
    "id": "G0SRFHwjK_Fy",
    "outputId": "dea45285-814d-4de8-8387-c48941d001b3"
   },
   "outputs": [],
   "source": [
    "List2.append(1)                        # Agregar el valor de 1 a la lista\n",
    "print(List2 )"
   ]
  },
  {
   "cell_type": "code",
   "execution_count": null,
   "metadata": {
    "colab": {
     "base_uri": "https://localhost:8080/"
    },
    "id": "Ah7qSXdmK_Fy",
    "outputId": "bd89da79-b087-4769-833b-48ef3c8da2df"
   },
   "outputs": [],
   "source": [
    "List2.append(\"a\")                      # Agregar el string \"a\" a la lista\n",
    "print(List2 )"
   ]
  },
  {
   "cell_type": "code",
   "execution_count": null,
   "metadata": {
    "colab": {
     "base_uri": "https://localhost:8080/"
    },
    "id": "Si_2-UEhK_Fy",
    "outputId": "81c59e69-f27b-48af-a36c-96767083b019"
   },
   "outputs": [],
   "source": [
    "List2.insert( 2 , \"b\" )               # Agregar el string \"b\" en la posicion 2 de la lista\n",
    "print(List2 )"
   ]
  },
  {
   "cell_type": "code",
   "execution_count": null,
   "metadata": {
    "colab": {
     "base_uri": "https://localhost:8080/"
    },
    "id": "yfPVTmDSK_Fz",
    "outputId": "247115ec-0ac5-42f7-fc18-0b382d3431e0"
   },
   "outputs": [],
   "source": [
    "List2.insert( 4 , 10 )                # Agregar el valor de 10 en la posicion 4 de la lista\n",
    "print(List2 )"
   ]
  },
  {
   "cell_type": "code",
   "execution_count": null,
   "metadata": {
    "colab": {
     "base_uri": "https://localhost:8080/"
    },
    "id": "RRU26NyUK_F0",
    "outputId": "dba0d770-0115-48f9-cc32-05c08324a6bc"
   },
   "outputs": [],
   "source": [
    "List2.remove(10)                      # Quitar el valor de 1 de la lista\n",
    "print(List2 ) "
   ]
  },
  {
   "cell_type": "code",
   "execution_count": null,
   "metadata": {
    "colab": {
     "base_uri": "https://localhost:8080/"
    },
    "id": "BQrbjI1BK_F0",
    "outputId": "1bb5ff74-ef71-4ef7-fa71-6c9bf7196137"
   },
   "outputs": [],
   "source": [
    "List2.reverse()                       # Invertir el orden de la lista\n",
    "print(List2 )"
   ]
  },
  {
   "cell_type": "code",
   "execution_count": null,
   "metadata": {
    "colab": {
     "base_uri": "https://localhost:8080/"
    },
    "id": "nWY2vNvQK_F0",
    "outputId": "044a2424-2957-4ddd-e753-bdf7572ce3e8"
   },
   "outputs": [],
   "source": [
    "List = [10,130,14,1,16]\n",
    "List.sort()                           # Ordenar la lista\n",
    "print(List)"
   ]
  },
  {
   "cell_type": "code",
   "execution_count": null,
   "metadata": {
    "colab": {
     "base_uri": "https://localhost:8080/"
    },
    "id": "RtS_II0EK_F0",
    "outputId": "2f105930-293d-4ebb-b713-ff6824d9bb14"
   },
   "outputs": [],
   "source": [
    "idx = List.index(10)                  # Encontrar el indice del elemento que tiene valor 10 en la lista \n",
    "print(idx)"
   ]
  },
  {
   "cell_type": "code",
   "execution_count": null,
   "metadata": {
    "colab": {
     "base_uri": "https://localhost:8080/"
    },
    "id": "OAjbS1nJK_F1",
    "outputId": "68206ab4-d793-4ac1-bbf9-95edb7e85c6e"
   },
   "outputs": [],
   "source": [
    "List = [10,130,14,1,10,16,19,10]\n",
    "idx =List.index(10,5)               # Encontrar el indice del elemento que tiene valor 10 en la lista \n",
    "print(idx)                          # despues de la posicion 2 "
   ]
  },
  {
   "cell_type": "markdown",
   "metadata": {
    "id": "nImsHRuHK_F1"
   },
   "source": [
    "**Ejercicio**\n",
    "Crear una lista *lista_a* con los números  [1, 2, 3, 4, 20, 6, 7, 8, 9, 10], imprir y agregar el número 5 y quitar el 20, imprimir la lista\n",
    "\n",
    "Ordenar la lista *lista_a* de forma ascendente e imprimirla\n",
    "\n",
    "Encontrar el indice del elemento que tiene valor 1 en la lista "
   ]
  },
  {
   "cell_type": "code",
   "execution_count": null,
   "metadata": {
    "id": "X1abA-WuK_F1"
   },
   "outputs": [],
   "source": [
    "# Respuesta\n"
   ]
  },
  {
   "cell_type": "code",
   "execution_count": null,
   "metadata": {
    "id": "6oBPd6RDK1Gb"
   },
   "outputs": [],
   "source": []
  },
  {
   "cell_type": "code",
   "execution_count": null,
   "metadata": {
    "id": "GzTv1obQK8M7"
   },
   "outputs": [],
   "source": []
  },
  {
   "cell_type": "markdown",
   "metadata": {
    "id": "vE2UUnYDK_F1"
   },
   "source": [
    "**Ejercicio**\n",
    "Escribe tu nombre completo y separalo en una lista que contenga todos los elementos de tu nombre"
   ]
  },
  {
   "cell_type": "code",
   "execution_count": null,
   "metadata": {
    "id": "P1XkCxJmK_F1"
   },
   "outputs": [],
   "source": [
    "# Respuesta\n"
   ]
  },
  {
   "cell_type": "code",
   "execution_count": null,
   "metadata": {
    "id": "lNPRZARZLS0E"
   },
   "outputs": [],
   "source": []
  },
  {
   "cell_type": "markdown",
   "metadata": {
    "id": "d1MH61i0K_F2"
   },
   "source": [
    "# Conjuntos: \n",
    "Coleccion desordenada de elementos unicos\n"
   ]
  },
  {
   "cell_type": "code",
   "execution_count": null,
   "metadata": {
    "id": "jgT2avOMK_F2"
   },
   "outputs": [],
   "source": [
    "basket = {'apple', 'eggs','banana', 'orange'}\n"
   ]
  },
  {
   "cell_type": "code",
   "execution_count": null,
   "metadata": {
    "colab": {
     "base_uri": "https://localhost:8080/"
    },
    "id": "--HLu8lHK_F3",
    "outputId": "0b90e35c-a064-49fe-c283-3e4467d05ac5"
   },
   "outputs": [],
   "source": [
    "same = set(['apple', 'eggs','banana', 'orange' ])\n",
    "print(basket == same)\n",
    "print(type(same))"
   ]
  },
  {
   "cell_type": "code",
   "execution_count": null,
   "metadata": {
    "colab": {
     "base_uri": "https://localhost:8080/"
    },
    "id": "T5fdfvLGK_F3",
    "outputId": "b0643c85-64eb-4490-ca75-00bd1d29dd96"
   },
   "outputs": [],
   "source": [
    "same = set([ 'banana', 'eggs','apple','orange' ])\n",
    "print(basket == same)"
   ]
  },
  {
   "cell_type": "markdown",
   "metadata": {
    "id": "bnuCHkHLK_F4"
   },
   "source": [
    "**Ejercicio**\n",
    "Crear un conjunto \"C\" con todas las letras del diccionario en español, imprimir el conjunto \"C\"\n",
    "\n",
    "Contar los elementos de \"C\" e imprimir el tamaño de este conjunto"
   ]
  },
  {
   "cell_type": "code",
   "execution_count": null,
   "metadata": {
    "colab": {
     "base_uri": "https://localhost:8080/"
    },
    "id": "nN4gkxNYK_F4",
    "outputId": "821203a2-b750-4f95-c581-45728912ff83"
   },
   "outputs": [],
   "source": [
    "# Respuesta\n"
   ]
  },
  {
   "cell_type": "code",
   "execution_count": null,
   "metadata": {
    "colab": {
     "base_uri": "https://localhost:8080/"
    },
    "id": "vUoM8XHQL0lI",
    "outputId": "d6eeb17b-b793-41fc-85bb-430d117fcfbd"
   },
   "outputs": [],
   "source": []
  },
  {
   "cell_type": "markdown",
   "metadata": {
    "id": "j1XdhytcK_F4"
   },
   "source": [
    "## Diccionarios: \n",
    "Estructura de datos útil para guardar parejas ordenadas\n",
    "\n",
    "**(key, value)**\n"
   ]
  },
  {
   "cell_type": "code",
   "execution_count": null,
   "metadata": {
    "colab": {
     "base_uri": "https://localhost:8080/"
    },
    "id": "PJQYt4l4K_F5",
    "outputId": "5c8babf6-df42-4011-c4e6-21062b79b230"
   },
   "outputs": [],
   "source": [
    "calories = {'apple': 52,\n",
    "            'banana': 89,\n",
    "            'choco': 546,\n",
    "            'correo': \"gbdiaz@imp.mx\"}\n",
    "print(calories,type(calories))"
   ]
  },
  {
   "cell_type": "code",
   "execution_count": null,
   "metadata": {
    "colab": {
     "base_uri": "https://localhost:8080/"
    },
    "id": "cFX2NZwgiNPg",
    "outputId": "741da024-d7fa-4d13-f9b5-b535c280da79"
   },
   "outputs": [],
   "source": [
    "my_data_1={'Nombres':\"Alberto\",'Apellidos':\"GC\",'e-mail':\"email@imp.mx\",'Edad':54}\n",
    "my_data_1"
   ]
  },
  {
   "cell_type": "code",
   "execution_count": null,
   "metadata": {
    "colab": {
     "base_uri": "https://localhost:8080/"
    },
    "id": "jJCoA6TbK_F5",
    "outputId": "3238ea8a-3cb0-401a-e8d6-331f6eb8974e"
   },
   "outputs": [],
   "source": [
    "calories.items()"
   ]
  },
  {
   "cell_type": "code",
   "execution_count": null,
   "metadata": {
    "colab": {
     "base_uri": "https://localhost:8080/"
    },
    "id": "vTx4S7SJ604J",
    "outputId": "6a220192-3b69-49f5-e45b-f28ca67f8620"
   },
   "outputs": [],
   "source": [
    "calories[\"banana\"]"
   ]
  },
  {
   "cell_type": "code",
   "execution_count": null,
   "metadata": {
    "colab": {
     "base_uri": "https://localhost:8080/"
    },
    "id": "F8xBmd4SK_F5",
    "outputId": "e71f9473-0e41-4fa8-b660-ba29d47fe192"
   },
   "outputs": [],
   "source": [
    "# Tuplas\n",
    "c = (0, 1, 2, 3, 'cuatro', 'cinco')\n",
    "print(c, type(c))"
   ]
  },
  {
   "cell_type": "code",
   "execution_count": null,
   "metadata": {
    "colab": {
     "base_uri": "https://localhost:8080/"
    },
    "id": "wGimi4EmK_F5",
    "outputId": "fb687634-5efe-4de5-ef63-b84722152f4a"
   },
   "outputs": [],
   "source": [
    "print(c[0])      # Selecciona el primer elemento de la tupla"
   ]
  },
  {
   "cell_type": "code",
   "execution_count": null,
   "metadata": {
    "colab": {
     "base_uri": "https://localhost:8080/"
    },
    "id": "He3QQffgK_F6",
    "outputId": "809a896f-a3ff-4946-f140-cc2285e0af07"
   },
   "outputs": [],
   "source": [
    "print(c[5])      # Selecciona el último elemento de la tupla"
   ]
  },
  {
   "cell_type": "code",
   "execution_count": null,
   "metadata": {
    "colab": {
     "base_uri": "https://localhost:8080/",
     "height": 166
    },
    "id": "ovHz-RsVK_F6",
    "outputId": "07139980-956b-4e1c-8f88-946ed7e8f3c7"
   },
   "outputs": [],
   "source": [
    "c.append(1)"
   ]
  },
  {
   "cell_type": "code",
   "execution_count": null,
   "metadata": {
    "colab": {
     "base_uri": "https://localhost:8080/"
    },
    "id": "e0St-Ac0K_F6",
    "outputId": "15de272e-0df6-494e-a33f-6fa1e04c9e1d"
   },
   "outputs": [],
   "source": [
    "# Operaciones básicas\n",
    "n_1 = 2\n",
    "n_2 = 3\n",
    "\n",
    "print('n_1 = {}, n_2 = {},\\n n_1 + n_2 = {}'.format(n_1,n_2,n_1 + n_2))"
   ]
  },
  {
   "cell_type": "code",
   "execution_count": null,
   "metadata": {
    "colab": {
     "base_uri": "https://localhost:8080/"
    },
    "id": "yBoHKTVbK_F6",
    "outputId": "3543b94f-1094-4b74-a84c-048c492eabe4"
   },
   "outputs": [],
   "source": [
    "\n",
    "n_1 += n_2\n",
    "print(n_1,type(n_1))\n",
    "print('n_1 += n_2\\n=> n_1 = {}'.format(n_1))"
   ]
  },
  {
   "cell_type": "code",
   "execution_count": null,
   "metadata": {
    "colab": {
     "base_uri": "https://localhost:8080/"
    },
    "id": "DZalXAIMK_F6",
    "outputId": "8464f201-5a78-45f7-c3ad-f1ae5cf2a28c"
   },
   "outputs": [],
   "source": [
    "n_1 = 2\n",
    "n_2 = 3\n",
    "print('n_1 = {}, n_2 = \\'{}\\' '.format(n_1, n_2))"
   ]
  },
  {
   "cell_type": "code",
   "execution_count": null,
   "metadata": {
    "colab": {
     "base_uri": "https://localhost:8080/"
    },
    "id": "Anjjp4aHK_F7",
    "outputId": "b4188bea-5d2f-426a-fb89-87baca2e2b7d"
   },
   "outputs": [],
   "source": [
    "print('n_2 / n_1 = {}'.format(n_2 / n_1))"
   ]
  },
  {
   "cell_type": "code",
   "execution_count": null,
   "metadata": {
    "colab": {
     "base_uri": "https://localhost:8080/"
    },
    "id": "K_WRBg5rK_F7",
    "outputId": "96de75bc-8c19-4544-8a38-4a748f5ab20a"
   },
   "outputs": [],
   "source": [
    "n_2 = 5\n",
    "print(n_1)\n",
    "print(n_2)\n",
    "print('n_2 // n_1 = {}'.format(n_2 // n_1))"
   ]
  },
  {
   "cell_type": "code",
   "execution_count": null,
   "metadata": {
    "colab": {
     "base_uri": "https://localhost:8080/"
    },
    "id": "iQdBxn0UK_F7",
    "outputId": "54d25543-e2a3-4b44-8a31-6dbc4d7f48fc"
   },
   "outputs": [],
   "source": [
    "print('n_1 ** n_2 = {}'.format(n_1 ** n_2))"
   ]
  },
  {
   "cell_type": "code",
   "execution_count": null,
   "metadata": {
    "colab": {
     "base_uri": "https://localhost:8080/"
    },
    "id": "Fly21bHyK_F7",
    "outputId": "630310d4-22c9-40ec-e772-558d1f8d2e0b"
   },
   "outputs": [],
   "source": [
    "print('n_1 % n_2 = {} \\n'.format(n_2 // n_1))"
   ]
  },
  {
   "cell_type": "code",
   "execution_count": null,
   "metadata": {
    "colab": {
     "base_uri": "https://localhost:8080/"
    },
    "id": "PRcG0v7AK_F7",
    "outputId": "8b67c875-400a-4b16-8a36-1aac0f3f9a9f",
    "scrolled": true
   },
   "outputs": [],
   "source": [
    "s_1  = 'uno'\n",
    "s_2 = 'dos'\n",
    "print('s_1 = {}, s_2 = {},\\ns1 + s_2 = {}'.format(s_1,s_2,s_1 + s_2))"
   ]
  },
  {
   "cell_type": "code",
   "execution_count": null,
   "metadata": {
    "colab": {
     "base_uri": "https://localhost:8080/"
    },
    "id": "igq8k77uK_F8",
    "outputId": "8ee1c285-ad94-450a-9564-fdd553d4eee8"
   },
   "outputs": [],
   "source": [
    "s_1  = 1\n",
    "s_2 = 2.34534\n",
    "print('s_1 = {}, s_2 = {},\\ns1 + s_2 = {}'.format(s_1,s_2,s_1 + s_2))"
   ]
  },
  {
   "cell_type": "markdown",
   "metadata": {
    "id": "UTTR3fAKK_F8"
   },
   "source": [
    "**Ejercicio**\n",
    "Crear un diccionario con nombre my_data que contenga:\n",
    "    \n",
    "    1. Nombres \n",
    "    2. Apellidos\n",
    "    3. E-mail\n",
    "    4. Edad\n",
    "    5. Grado de estudios\n",
    "    6. Formación\n",
    "    7. Lenguajes de programación"
   ]
  },
  {
   "cell_type": "code",
   "execution_count": null,
   "metadata": {
    "id": "_o7QuZ67K_F8"
   },
   "outputs": [],
   "source": [
    "# Respuesta\n"
   ]
  },
  {
   "cell_type": "markdown",
   "metadata": {
    "id": "2qbYMqGwK_F8"
   },
   "source": [
    "Crear un diccionaro \"D\" con todas las letras del diccionario en español y asignarles el número de letras, e.g. A tiene valor 1, B valor 2, etc\n",
    "\n",
    "Imprimir cada letra con su respectivo valor\n",
    "\n",
    "Seleccionar las letras de tu nombre y sumar los valores correspondientes a cada letra, imprimir tu nombre y el total de la suma\n"
   ]
  },
  {
   "cell_type": "code",
   "execution_count": null,
   "metadata": {
    "id": "tPHzeRm4K_F8"
   },
   "outputs": [],
   "source": [
    "# Respuesta\n"
   ]
  },
  {
   "cell_type": "code",
   "execution_count": null,
   "metadata": {
    "id": "uukZ-VlSMI-2"
   },
   "outputs": [],
   "source": []
  },
  {
   "cell_type": "markdown",
   "metadata": {
    "id": "7CuHKjh8K_F9"
   },
   "source": [
    "### Formatos de salida\n"
   ]
  },
  {
   "cell_type": "code",
   "execution_count": null,
   "metadata": {
    "colab": {
     "base_uri": "https://localhost:8080/"
    },
    "id": "uCYOQjk5K_F9",
    "outputId": "5dfb0408-3757-4654-dd80-186f25664ac7"
   },
   "outputs": [],
   "source": [
    "print('Flotante con 2 decimales: %.4f'%321.23576589)"
   ]
  },
  {
   "cell_type": "code",
   "execution_count": null,
   "metadata": {
    "colab": {
     "base_uri": "https://localhost:8080/"
    },
    "id": "xxjTQGj4K_F9",
    "outputId": "1b84904d-f901-46ad-ec96-f0f2db3f11fd"
   },
   "outputs": [],
   "source": [
    "print('Flotante con 2 decimales: {0:.4f} '.format(321.23576589))"
   ]
  },
  {
   "cell_type": "code",
   "execution_count": null,
   "metadata": {
    "colab": {
     "base_uri": "https://localhost:8080/"
    },
    "id": "VQx1rha9K_F9",
    "outputId": "54232e12-b0bb-411a-bd33-c111a9a36075"
   },
   "outputs": [],
   "source": [
    "print('Flotante en notación exponencial con un decimal: {0:.2e}'.format(321.23576589))"
   ]
  },
  {
   "cell_type": "code",
   "execution_count": null,
   "metadata": {},
   "outputs": [],
   "source": [
    "print('Flotante:',321.23576589)"
   ]
  },
  {
   "cell_type": "markdown",
   "metadata": {
    "id": "dc2VkIihK_F-"
   },
   "source": [
    "**Ejercicio** Crea una lista que se llame lista_vieja con los siguientes elementos [[1,1,1], [2,2,2],[3,3,3]] y busca su id de referencia en la memoria (usa el comando id()).\n",
    "\n",
    "Iguala la lista_vieja con otra lista que se llame lista_nueva y busca el lugar de referencia de la nueva lista\n",
    "\n",
    "lista_nueva = lista_vieja \n",
    "\n",
    "\n",
    "Prueba los comandos siguientes:\n",
    "\n",
    "    lista_vieja == lista_nueva\n",
    "    \n",
    "    lista_vieja is lista_nueva\n",
    "\n",
    "Adiciona la lista [4] a la vieja lista e imprime ambas listas\n",
    "\n",
    "¿Qué puedes concluir?"
   ]
  },
  {
   "cell_type": "code",
   "execution_count": null,
   "metadata": {
    "colab": {
     "base_uri": "https://localhost:8080/"
    },
    "id": "FIpcVKUEK_F-",
    "outputId": "77e604a2-c95f-40e3-93d8-fed71ed3de83"
   },
   "outputs": [],
   "source": [
    "# Respuesta\n"
   ]
  },
  {
   "cell_type": "code",
   "execution_count": null,
   "metadata": {
    "colab": {
     "base_uri": "https://localhost:8080/"
    },
    "id": "U-aUSgwEM24p",
    "outputId": "bed7ef81-fa37-49f1-fa62-d031b3c9081b"
   },
   "outputs": [],
   "source": []
  },
  {
   "cell_type": "code",
   "execution_count": null,
   "metadata": {
    "colab": {
     "base_uri": "https://localhost:8080/"
    },
    "id": "69-U3FiwM9wz",
    "outputId": "a6d3439f-ddab-4045-cbcf-764ec80aeeaa"
   },
   "outputs": [],
   "source": []
  },
  {
   "cell_type": "code",
   "execution_count": null,
   "metadata": {
    "colab": {
     "base_uri": "https://localhost:8080/"
    },
    "id": "X8E_H9A2M3DW",
    "outputId": "2ee4e501-13bc-4a0a-ac0d-44c3b1bcd3bc"
   },
   "outputs": [],
   "source": []
  },
  {
   "cell_type": "markdown",
   "metadata": {
    "id": "RSQo2Gu1K_F-"
   },
   "source": [
    "**Ejercicio** Copia la vieja lista utilizando deep copy y nombrala lista_nueva_2 (importar librería copy, para copiar lista usar comando lista.copy())\n",
    "\n",
    "import copy\n",
    "\n",
    "\n",
    "Prueba los comandos siguientes:\n",
    "\n",
    "    lista_vieja == lista_nueva_2\n",
    "    \n",
    "    lista_vieja is lista_nueva_2\n",
    "\n",
    "Imprime los id's de referencia de la vieja_lista y de la lista_nueva_2\n",
    "\n",
    "Adiciona la lista [5] en la lista_vieja e imprime lista_vieja y lista_nueva_2\n",
    "\n",
    "¿Qué puedes concluir?"
   ]
  },
  {
   "cell_type": "code",
   "execution_count": null,
   "metadata": {
    "colab": {
     "base_uri": "https://localhost:8080/"
    },
    "id": "v1R94zPUK_F-",
    "outputId": "ab33a6f0-d7c5-4dac-e3d5-fb928a3ae0e9"
   },
   "outputs": [],
   "source": [
    "# Respuesta\n"
   ]
  },
  {
   "cell_type": "code",
   "execution_count": null,
   "metadata": {
    "colab": {
     "base_uri": "https://localhost:8080/"
    },
    "id": "4Rsl04L1NNBf",
    "outputId": "5bf471ec-64a3-4024-9684-b02b1b6fe1d4"
   },
   "outputs": [],
   "source": []
  },
  {
   "cell_type": "code",
   "execution_count": null,
   "metadata": {
    "colab": {
     "base_uri": "https://localhost:8080/"
    },
    "id": "jOK89DBgNNR9",
    "outputId": "4de6fd2d-12f4-4041-ca61-60e89b465e6a"
   },
   "outputs": [],
   "source": []
  },
  {
   "cell_type": "code",
   "execution_count": null,
   "metadata": {
    "colab": {
     "base_uri": "https://localhost:8080/"
    },
    "id": "u7Bzcn-_NNcG",
    "outputId": "21b8df52-d164-4c5f-d718-74e45b485d77"
   },
   "outputs": [],
   "source": []
  }
 ],
 "metadata": {
  "colab": {
   "provenance": []
  },
  "kernelspec": {
   "display_name": "Python 3 (ipykernel)",
   "language": "python",
   "name": "python3"
  },
  "language_info": {
   "codemirror_mode": {
    "name": "ipython",
    "version": 3
   },
   "file_extension": ".py",
   "mimetype": "text/x-python",
   "name": "python",
   "nbconvert_exporter": "python",
   "pygments_lexer": "ipython3",
   "version": "3.12.4"
  }
 },
 "nbformat": 4,
 "nbformat_minor": 4
}
