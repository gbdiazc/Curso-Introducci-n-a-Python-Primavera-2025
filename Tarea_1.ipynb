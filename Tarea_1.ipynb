{
 "cells": [
  {
   "cell_type": "markdown",
   "id": "cd10e2b8-dc6a-4498-b556-92c432515e7b",
   "metadata": {},
   "source": [
    "<div style=\"background-color:#f2f2f2; border-left: 8px solid #2e8b57; padding: 20px; border-radius: 10px; font-family: Arial, sans-serif;\">\n",
    "\n",
    "<center>\n",
    "\n",
    "<h1 style=\"color:#2e8b57;\">Tarea 1: Introducción a la programación en Python</h1>\n",
    "<h2 style=\"color:#2e8b57;\">Instituto Mexicano del Petróleo</h2>\n",
    "\n",
    "<p style=\"font-size:16px; color:#333;\">\n",
    "<strong>Dra. Gabriela Berenice Díaz Cortés</strong><br>\n",
    "<em>gbdiaz@imp.mx</em>\n",
    "</p>\n",
    "\n",
    "<p style=\"font-size:16px; color:#333;\">\n",
    "<strong>Dr. Luis Antonio López Peña</strong><br>\n",
    "<em>llopezp@imp.mx</em>\n",
    "</p>\n",
    "\n",
    "<p style=\"font-size:15px; color:#555;\">\n",
    "Dirección de Investigación <br>\n",
    "Gerencia de Investigación en Explotación\n",
    "</p>\n",
    "\n",
    "<p style=\"font-size:15px; color:#444; margin-top: 20px;\">\n",
    "<strong>Fecha de asignación:</strong> 11 de julio de 2025<br>\n",
    "<strong>Fecha de entrega:</strong> 16 de julio de 2025\n",
    "</p>\n",
    "\n",
    "</center>\n",
    "\n",
    "</div>\n",
    "\n"
   ]
  },
  {
   "cell_type": "markdown",
   "id": "af0c9338-a9b7-4d77-89a0-fe659346fc8d",
   "metadata": {},
   "source": [
    "Ejercicio 1."
   ]
  },
  {
   "cell_type": "code",
   "execution_count": null,
   "id": "547b3b83-6147-4f52-a2db-baa63d5e8ac1",
   "metadata": {},
   "outputs": [],
   "source": [
    "Nombre = input(\"Escribe tu nombre:\")\n"
   ]
  },
  {
   "cell_type": "markdown",
   "id": "8a70b89d-b6a5-4925-80e8-56abdcb97c85",
   "metadata": {},
   "source": [
    "Ejercicio 2. Diccionario de usuario\n",
    "1. Pide al usuario que ingrese:\n",
    "    - Nombre\n",
    "    - Edad\n",
    "    - Ciudad\n",
    "2. Guarda estos datos en un diccionario.\n",
    "3. Imprime un mensaje como:  \n",
    "   `\"María tiene 30 años y vive en Guadalajara\"`"
   ]
  },
  {
   "cell_type": "code",
   "execution_count": 1,
   "id": "5e32578c-0872-4045-a148-f095bd4fd185",
   "metadata": {},
   "outputs": [],
   "source": [
    "# Respuesta\n"
   ]
  },
  {
   "cell_type": "markdown",
   "id": "00fe57eb-ab4f-4bb2-8f21-da1d86e1be63",
   "metadata": {},
   "source": [
    "Ejercicio 3. Conversor de Temperaturas\n",
    "\n",
    "1. Pide al usuario que ingrese una temperatura en °C.\n",
    "2. Convierte esa temperatura a °F usando la fórmula:  \n",
    "   $$ F = C \\times \\frac{9}{5} + 32 $$\n",
    "3. Muestra el resultado con un mensaje claro redondeando a 2 decimales.\n"
   ]
  },
  {
   "cell_type": "code",
   "execution_count": null,
   "id": "f3661f69-e09b-4798-acfb-8a636d34e706",
   "metadata": {},
   "outputs": [],
   "source": [
    "# Respuesta\n"
   ]
  },
  {
   "cell_type": "markdown",
   "id": "0b41777f-2969-4ff6-97a6-dd5190547bf6",
   "metadata": {},
   "source": [
    "Ejercicio 4. Escribe un programa que pida números al usuario y los vaya sumando. El ciclo termina cuando el usuario ingresa un `0` o cuando la suma es mayor que 50. Usa `while` y `break`.\r\n"
   ]
  },
  {
   "cell_type": "code",
   "execution_count": null,
   "id": "53fb41cb-f66c-4bb8-a3e4-757b1650fcb9",
   "metadata": {},
   "outputs": [],
   "source": [
    "# Respuesta\n"
   ]
  },
  {
   "cell_type": "markdown",
   "id": "d909c499-2a1c-4495-8648-9c740a41242f",
   "metadata": {},
   "source": [
    "Ejercicio 5. Usa un ciclo for para guardar en una lista los números del 1 al 10, pero salta los números pares usando continue.\n",
    "\n"
   ]
  },
  {
   "cell_type": "code",
   "execution_count": null,
   "id": "86cc0748-e429-4ccb-b54f-36e7c8de3d8f",
   "metadata": {},
   "outputs": [],
   "source": [
    "# Respuesta\n"
   ]
  },
  {
   "cell_type": "markdown",
   "id": "225a4fc3-5d1a-45ff-b3e3-021040249740",
   "metadata": {},
   "source": [
    "Ejercicio 6. Escriba una función que tenga como argumento el lado de un cuadrado y regrese su área."
   ]
  },
  {
   "cell_type": "code",
   "execution_count": null,
   "id": "8cb32219-f96c-426b-88be-9d1cfa836d1f",
   "metadata": {},
   "outputs": [],
   "source": [
    "# Respuesta\n"
   ]
  },
  {
   "cell_type": "markdown",
   "id": "8d7ddecd-e0c9-4bcf-a241-a641754f5d0d",
   "metadata": {},
   "source": [
    "Ejercicio 7. Escribe una función *my_max(x)* que de como salida el valor máximo (más grande) de una lista *x*. No use la función de Python *max*.\n",
    "\n",
    "Encuentra el máximo de la siguiente lista \n",
    "\n",
    "x = [10, 56, 258, 16, 24, 18, 265, 893, 52, 39, 82]"
   ]
  },
  {
   "cell_type": "code",
   "execution_count": null,
   "id": "e5247af0-b804-4bb7-a4ba-d402de8e6730",
   "metadata": {},
   "outputs": [],
   "source": [
    "# Respuesta\n"
   ]
  },
  {
   "cell_type": "markdown",
   "id": "4e7d91b7-7a2c-44a2-8484-551c75cd66ec",
   "metadata": {},
   "source": [
    "Ejercicio 8. Pide al usuario una contraseña. Permite hasta 3 intentos, y termina el ciclo si la acierta. Usa while, break y un contador."
   ]
  },
  {
   "cell_type": "code",
   "execution_count": null,
   "id": "ac8cec4d-715e-422c-940c-777001c86665",
   "metadata": {},
   "outputs": [],
   "source": [
    "# Respuesta\n"
   ]
  },
  {
   "cell_type": "markdown",
   "id": "d6642ec4-9634-4820-b182-012003922983",
   "metadata": {},
   "source": [
    "Ejercicio 9. Escribe una función que realice el producto de una matriz por un vector\n",
    "\n",
    "$$\\vec{b}=\\mathbf{A} \\vec{x}=  \\begin{bmatrix}\n",
    "a_{1,1} \\quad a_{1,2}\\quad\\cdots\\quad a_{1,n}\\\\\n",
    "\\vdots\\\\\n",
    "a_{n,1} \\quad a_{n,2}\\quad\\cdots \\quad a_{n,n}\\\\ \n",
    "\\end{bmatrix}\\begin{bmatrix}\n",
    "x_{1}\\\\\n",
    "\\vdots\\\\\n",
    "x_{n}\\\\ \n",
    "\\end{bmatrix}\n",
    "= \\begin{bmatrix}\n",
    "a_{1,1}x_{1}+a_{1,2}x_{2},\\cdots +a_{1,n}x_{n}\\\\\n",
    "\\vdots\\\\\n",
    "a_{n,1}x_{1}+a_{n,2}x_{2},\\cdots +a_{n,n}x_{n}\\\\ \n",
    "\\end{bmatrix}$$\n",
    "\n",
    "La representación de la matriz en python esta dada por:\n",
    "\n",
    "\n",
    "```\n",
    "A = [[1,0,0],\n",
    "     [0,1,0],\n",
    "     [0,0,1]]\n",
    "```\n",
    "\n",
    "y puedes acceder a cada entrada por medio de la operación:\n",
    "```\n",
    "A[0][0]\n",
    "```\n",
    "\n",
    "Realiza la multiplicación de la siguiente matriz y el siguiente vector\n",
    "$$\\mathbf{A} = \\begin{bmatrix}\n",
    "1 & 0&0\\\\\n",
    "0&1&0\\\\\n",
    "0&0&1\\\\ \n",
    "\\end{bmatrix}\\quad \\vec{x}= \\begin{bmatrix}\n",
    "1\\\\\n",
    "2\\\\\n",
    "3\\\\ \n",
    "\\end{bmatrix}\n",
    "$$"
   ]
  },
  {
   "cell_type": "code",
   "execution_count": null,
   "id": "31c75304-13db-47c2-b478-02cf2c2f3c18",
   "metadata": {},
   "outputs": [],
   "source": [
    "# Respuesta\n"
   ]
  },
  {
   "cell_type": "markdown",
   "id": "9f8992a8-5511-43e5-8ad8-ac92e082bd29",
   "metadata": {},
   "source": [
    "Ejercicio 10. Clase `Libro` con variables públicas y privadas\n",
    "\n",
    "Crea una clase llamada `Libro` que represente un libro con la siguiente información:\n",
    "\n",
    "- `titulo` (público): el título del libro.  \n",
    "- `autor` (público): el autor del libro.  \n",
    "- `__paginas` (privado): el número total de páginas del libro.  \n",
    "\n"
   ]
  },
  {
   "cell_type": "code",
   "execution_count": null,
   "id": "4f8fb3b5-4d99-4b37-8af3-6d557a5004a8",
   "metadata": {},
   "outputs": [],
   "source": [
    "# Respuesta\n"
   ]
  }
 ],
 "metadata": {
  "kernelspec": {
   "display_name": "Python 3 (ipykernel)",
   "language": "python",
   "name": "python3"
  },
  "language_info": {
   "codemirror_mode": {
    "name": "ipython",
    "version": 3
   },
   "file_extension": ".py",
   "mimetype": "text/x-python",
   "name": "python",
   "nbconvert_exporter": "python",
   "pygments_lexer": "ipython3",
   "version": "3.12.4"
  }
 },
 "nbformat": 4,
 "nbformat_minor": 5
}
