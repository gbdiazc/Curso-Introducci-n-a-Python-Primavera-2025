{
 "cells": [
  {
   "cell_type": "markdown",
   "metadata": {},
   "source": [
    "<div style=\"background-color:#f2f2f2; border-left: 8px solid #2e8b57; padding: 20px; border-radius: 10px; font-family: Arial, sans-serif;\">\n",
    "\n",
    "<center>\n",
    "\n",
    "<h1 style=\"color:#2e8b57;\">Introducción a la programación en Python</h1>\n",
    "<h2 style=\"color:#2e8b57;\">Instituto Mexicano del Petróleo</h2>\n",
    "\n",
    "<p style=\"font-size:16px; color:#333;\">\n",
    "<strong>Dra. Gabriela Berenice Díaz Cortés</strong><br>\n",
    "<em>gbdiaz@imp.mx</em>\n",
    "</p>\n",
    "\n",
    "<p style=\"font-size:16px; color:#333;\">\n",
    "<strong>Dr. Luis Antonio López Peña</strong><br>\n",
    "<em>llopezp@imp.mx</em>\n",
    "</p>\n",
    "\n",
    "<p style=\"font-size:15px; color:#555;\">\n",
    "Dirección de Investigación <br>\n",
    "Gerencia de Investigación en Explotación\n",
    "</p>\n",
    "\n",
    "</center>\n",
    "\n",
    "</div>"
   ]
  },
  {
   "cell_type": "markdown",
   "metadata": {
    "id": "6anX9KDIb5bw"
   },
   "source": [
    "## Desarrollo de scripts 2\n",
    "\n",
    "* **Funciones**\n",
    "    - Definición de funciones\n",
    "    - Funciones con argumentos indeterminados\n",
    "    - Funciones anónimas\n",
    "\n",
    "* **Variables locales y variables globales**\n"
   ]
  },
  {
   "cell_type": "markdown",
   "metadata": {
    "id": "36PXbA8Ob5b5"
   },
   "source": [
    "## Funciones \n",
    "\n",
    "Las funciones son un conjunto de intrucciones que realizan una actividad específica. Se pueden crear funciones si se requiere realizar una operacion constantemente.\n",
    "\n",
    "Las funciones se pueden definir en un lugar y pueden ser llamadas en otro lugar.\n",
    "\n",
    "## ¿Cómo trabajan las funciones?\n",
    "\n",
    "Cuando se llama una función, el programa va de donde se llama la función al punto en donde la función esta definida.\n",
    "El cuerpo de la función se ejecuta antes de que el programa regrese al lugar en donde fue llamada.\n",
    "\n",
    "<center>\n",
    "<img src=\"https://github.com/gbdiazc/Images/blob/6998851d3c940565da46ba3aaa1e004a5b05f667/Functions.jpeg?raw=1\" width=\"300\"> \n",
    "</center>\n",
    "\n",
    "\n",
    "\n",
    "## Tipos de funciones\n",
    "\n",
    "Existen 2 tipos de funciones, funciones que pertenecen al lenguaje Python, como print(), input() y funciones definidas por el programador.\n",
    "\n",
    "\n",
    "\n",
    "\n",
    "## Definición de funciones \n",
    "\n",
    "Las funciones pueden tener o no elementos de entrada (inputs) y de salida (outputs). La sintaxis es la siguiente:\n",
    "\\begin{array}{ll} \n",
    "def   & función(input):     \\\\\n",
    "      & \\text{operaciones} \\\\ \n",
    "      & return(output)     \\\\ \n",
    "\\end{array}\n",
    "La *indentación* es muy importante en Python, al crear funciones, estas tienen que estar bien indentadas. \n",
    "\n",
    "1. Las funciones se definen usando la palabra def \n",
    "2. Una función puede tener un nombre que la define de manera única\n",
    "3. Usualmente se definen usando sólo letras mínusculas\n",
    "4. Una función puede tener párametros de entrada. No todas las funciones necesitan tener parámetros de entrada.\n",
    "5. Se utlizan 2 puntos para ':' para indicar el fin del encabezado de la función y el inicio del cuerpo de la función.\n",
    "6. Se puede incluir texto que describa lo que la función realiza.\n",
    "7. Las instrucciones que integran el cuerpo de la función estan indentadas con respecto a la definición de la función.\n"
   ]
  },
  {
   "cell_type": "code",
   "execution_count": null,
   "metadata": {
    "id": "s1dM_1_iVPGn"
   },
   "outputs": [],
   "source": [
    "# Definición de la función\n",
    "def print_msg():\n",
    "    print('Hello World!')"
   ]
  },
  {
   "cell_type": "code",
   "execution_count": null,
   "metadata": {
    "id": "8TTMTmceVPGo"
   },
   "outputs": [],
   "source": [
    "# Uso de la función\n",
    "print_msg()"
   ]
  },
  {
   "cell_type": "code",
   "execution_count": null,
   "metadata": {
    "id": "_8lq4uNIVPGo"
   },
   "outputs": [],
   "source": [
    "# Definición de la función\n",
    "def print_my_msg(msg):\n",
    "    print(msg)"
   ]
  },
  {
   "cell_type": "code",
   "execution_count": null,
   "metadata": {
    "id": "09rTBPESVPGo"
   },
   "outputs": [],
   "source": [
    "# Uso de la función\n",
    "print_my_msg('Hola')"
   ]
  },
  {
   "cell_type": "markdown",
   "metadata": {},
   "source": [
    "**Ejemplo** Realizar una función que se llame suma y realice la sumar de dos números"
   ]
  },
  {
   "cell_type": "code",
   "execution_count": 3,
   "metadata": {},
   "outputs": [],
   "source": [
    "def sumar(a, b):\n",
    "    resultado = a + b\n",
    "    return resultado"
   ]
  },
  {
   "cell_type": "code",
   "execution_count": 4,
   "metadata": {},
   "outputs": [
    {
     "name": "stdout",
     "output_type": "stream",
     "text": [
      "La suma es : 8\n"
     ]
    }
   ],
   "source": [
    "x = 5\n",
    "y = 3\n",
    "suma = sumar(x, y)\n",
    "print('La suma es :', suma)\n"
   ]
  },
  {
   "cell_type": "markdown",
   "metadata": {},
   "source": [
    "**Ejercicio** Realizar una función que tenga dos parámetros de entrada, el total de una cuenta y el procentaje de la propina. La función debe regresar el monto total a pagar (incluyendo la porpina)."
   ]
  },
  {
   "cell_type": "code",
   "execution_count": 5,
   "metadata": {},
   "outputs": [],
   "source": []
  },
  {
   "cell_type": "code",
   "execution_count": null,
   "metadata": {},
   "outputs": [],
   "source": []
  },
  {
   "cell_type": "markdown",
   "metadata": {},
   "source": [
    "**Ejemplo** Definición de la función factorial "
   ]
  },
  {
   "cell_type": "code",
   "execution_count": null,
   "metadata": {},
   "outputs": [],
   "source": [
    "#Definición de la función\n",
    "def factorial(n):\n",
    "    fact = 1\n",
    "    for i in range (2,n+1):\n",
    "        fact= fact*i\n",
    "    return fact\n",
    "\n"
   ]
  },
  {
   "cell_type": "code",
   "execution_count": null,
   "metadata": {},
   "outputs": [],
   "source": [
    "#Uso de la función\n",
    "\n",
    "f = factorial(3)\n",
    "print(f)"
   ]
  },
  {
   "cell_type": "markdown",
   "metadata": {},
   "source": [
    "**Ejercicio** Crear una función que lleve por nombre Gauss, que sume los primeros n números enteros"
   ]
  },
  {
   "cell_type": "code",
   "execution_count": null,
   "metadata": {},
   "outputs": [],
   "source": []
  },
  {
   "cell_type": "markdown",
   "metadata": {},
   "source": [
    "**Ejercicio.** Escribe una función que retorne el mayor de 2 números"
   ]
  },
  {
   "cell_type": "code",
   "execution_count": null,
   "metadata": {},
   "outputs": [],
   "source": []
  },
  {
   "cell_type": "markdown",
   "metadata": {
    "id": "XYhpbHYsb5b6"
   },
   "source": [
    "**Ejemplo** Crear una función que obtenga la suma y la multiplicación de 2 números"
   ]
  },
  {
   "cell_type": "code",
   "execution_count": 7,
   "metadata": {
    "id": "rEJhpn0xb5b6"
   },
   "outputs": [],
   "source": [
    "def sumandmult(a, b):\n",
    "    sumc = a+b\n",
    "    multc =  a*b\n",
    "    return sumc, multc"
   ]
  },
  {
   "cell_type": "code",
   "execution_count": 8,
   "metadata": {},
   "outputs": [],
   "source": [
    "sumc, multc = sumandmult (5,4)"
   ]
  },
  {
   "cell_type": "code",
   "execution_count": 9,
   "metadata": {},
   "outputs": [
    {
     "name": "stdout",
     "output_type": "stream",
     "text": [
      "Esta es la suma de a y b:  9\n",
      "Esta es la múltiplicaicón de a y c:  20\n"
     ]
    }
   ],
   "source": [
    "print('Esta es la suma de a y b: ',sumc)\n",
    "print('Esta es la múltiplicaicón de a y c: ',multc)"
   ]
  },
  {
   "cell_type": "code",
   "execution_count": 10,
   "metadata": {},
   "outputs": [],
   "source": [
    "result = sumandmult (5,4)"
   ]
  },
  {
   "cell_type": "code",
   "execution_count": 11,
   "metadata": {},
   "outputs": [
    {
     "name": "stdout",
     "output_type": "stream",
     "text": [
      "(9, 20)\n"
     ]
    }
   ],
   "source": [
    "print(result)"
   ]
  },
  {
   "cell_type": "markdown",
   "metadata": {},
   "source": [
    "**Ejercicio** Crear una función que regrese el área superfifical y el vólumen de un prisma rectangular. Qu tenga como parametros de entrada la dimensión de sus lados."
   ]
  },
  {
   "cell_type": "code",
   "execution_count": null,
   "metadata": {},
   "outputs": [],
   "source": []
  },
  {
   "cell_type": "code",
   "execution_count": null,
   "metadata": {},
   "outputs": [],
   "source": []
  },
  {
   "cell_type": "markdown",
   "metadata": {
    "id": "GTWDNxWRVPGt"
   },
   "source": [
    "**Ejemplo** Escribe una función que realice la multiplicación de un vector por un escalar entrada a entrada, es decir\n",
    "\n",
    "$$\\vec{y} = a*\\vec{x} = \\sum_i a*x_i$$\n",
    "\n",
    "Realiza la multiplicación del escalar a = 10, por la lista\n",
    "\n",
    "x = [10, 56, 258, 16, 24, 18, 265, 893, 52, 39, 82]"
   ]
  },
  {
   "cell_type": "code",
   "execution_count": 13,
   "metadata": {
    "id": "zMYYpFqVVPGt"
   },
   "outputs": [],
   "source": [
    "def esc_vec(a,x):\n",
    "  y = []\n",
    "  for i in range(len(x)):\n",
    "    y.append(a*x[i])\n",
    "  return y\n",
    "\n"
   ]
  },
  {
   "cell_type": "code",
   "execution_count": 14,
   "metadata": {},
   "outputs": [
    {
     "name": "stdout",
     "output_type": "stream",
     "text": [
      "[100, 560, 2580, 160, 240, 180, 2650, 8930, 520, 390, 820]\n"
     ]
    }
   ],
   "source": [
    "a = 10\n",
    "x = [10, 56, 258, 16, 24, 18, 265, 893, 52, 39, 82]\n",
    "len(x)\n",
    "y = esc_vec(a,x)\n",
    "print(y)"
   ]
  },
  {
   "cell_type": "markdown",
   "metadata": {
    "id": "67jnxN9JVPGt"
   },
   "source": [
    "**Ejercicio** Escribe una función que realice el producto punto de dos vectores, recuerda que el producto punto se realiza multiplicando entrada a entrada los vectores y sumando el resultado de las multiplicaciones, \n",
    "\n",
    "$$\\vec{u}\\cdot \\vec{v} =  \\sum_i u_iv_i$$\n",
    "\n",
    "Con la función creada obten el producto punto de los siguientes vectores:\n",
    "\n",
    "> x = [1,1,1], y = [1,1,1]\n",
    "\n",
    "> x = [1,0,0,0,0], y = [0,1,0,0,0]"
   ]
  },
  {
   "cell_type": "code",
   "execution_count": null,
   "metadata": {},
   "outputs": [],
   "source": []
  },
  {
   "cell_type": "markdown",
   "metadata": {
    "id": "7IgapPeSVPGu"
   },
   "source": [
    "## Parámetros de las funciones "
   ]
  },
  {
   "cell_type": "markdown",
   "metadata": {
    "id": "4oeHjH9LVPGv"
   },
   "source": [
    "Un **parámetro** es una variable que es parte del encabezado de la función y se usa para hacer el dato disponible dentro del cuerpo de la función.\n",
    "\n",
    "Un **argumento** es el valor que pasa a la función, cuando esta es llamada."
   ]
  },
  {
   "cell_type": "code",
   "execution_count": null,
   "metadata": {
    "id": "0hz_Cg88VPGv"
   },
   "outputs": [],
   "source": [
    "def greeter(name, message):\n",
    "    print('Bienvenida', name, '-', message)"
   ]
  },
  {
   "cell_type": "code",
   "execution_count": null,
   "metadata": {
    "id": "WU6TGyJyVPGv"
   },
   "outputs": [],
   "source": [
    "greeter('Isabel', 'Este es el curso de python')"
   ]
  },
  {
   "cell_type": "markdown",
   "metadata": {},
   "source": [
    "## Parámetros por default"
   ]
  },
  {
   "cell_type": "code",
   "execution_count": 13,
   "metadata": {
    "id": "EyF9NNnZVPGv"
   },
   "outputs": [],
   "source": [
    "def greeter1(name, message = 'Saludos!'):\n",
    "    print('Bienvenida', name, '-', message)"
   ]
  },
  {
   "cell_type": "code",
   "execution_count": 14,
   "metadata": {
    "id": "TvnKDs1AVPGv"
   },
   "outputs": [
    {
     "name": "stdout",
     "output_type": "stream",
     "text": [
      "Bienvenida Isabel - Saludos!\n"
     ]
    }
   ],
   "source": [
    "greeter1('Isabel')"
   ]
  },
  {
   "cell_type": "code",
   "execution_count": 15,
   "metadata": {},
   "outputs": [
    {
     "name": "stdout",
     "output_type": "stream",
     "text": [
      "Bienvenida Isabel - ¿Cómo estás?\n"
     ]
    }
   ],
   "source": [
    "greeter1('Isabel', '¿Cómo estás?')"
   ]
  },
  {
   "cell_type": "markdown",
   "metadata": {
    "id": "j6PK8oebVPGv"
   },
   "source": [
    "**Nota** Todos los parámetros pueden tener un valor por default, sin embargo una vez que un parámetro tiene un valor default, los demás parámetros a la derecha, tienen que tener valores por default."
   ]
  },
  {
   "cell_type": "markdown",
   "metadata": {
    "id": "u8--8rnkVPGv"
   },
   "source": [
    "La posición de un valor dentro de los argumentos de la función, determina a que parámetro este valor es asignado. Sin embargo, si una función tiene demasiados parámetros, será más dificil usar solo la posición para saber que un valor se le esta asignando al parámetro deseado"
   ]
  },
  {
   "cell_type": "markdown",
   "metadata": {},
   "source": [
    "**Ejercicio** Definir una función que calcule el precio total de un producto que reciba 2 parámetros. \n",
    "1. El precio base del producto sin impuesto. \n",
    "2. El impuesto del producto en porcentaje. Nota considerar un impuesto por defecto del 16%"
   ]
  },
  {
   "cell_type": "markdown",
   "metadata": {},
   "source": [
    "## Orden de los párametros de entrada"
   ]
  },
  {
   "cell_type": "code",
   "execution_count": 16,
   "metadata": {},
   "outputs": [],
   "source": [
    "def greeter2(name,\n",
    "    title ,\n",
    "    prompt ,\n",
    "    message ):\n",
    "    print(prompt, title, name, '-', message)"
   ]
  },
  {
   "cell_type": "code",
   "execution_count": 17,
   "metadata": {},
   "outputs": [
    {
     "name": "stdout",
     "output_type": "stream",
     "text": [
      "Hola Sr Carlos - Bienvenido\n"
     ]
    }
   ],
   "source": [
    "greeter2('Carlos','Sr','Hola', 'Bienvenido') "
   ]
  },
  {
   "cell_type": "code",
   "execution_count": 19,
   "metadata": {},
   "outputs": [
    {
     "name": "stdout",
     "output_type": "stream",
     "text": [
      "Hola Sr. Carlos - Bienvenido\n"
     ]
    }
   ],
   "source": [
    "greeter2(message = 'Bienvenido', name = 'Carlos', title='Sr.', prompt='Hola')"
   ]
  },
  {
   "cell_type": "code",
   "execution_count": 21,
   "metadata": {
    "id": "ZKT9nwsYVPGv"
   },
   "outputs": [],
   "source": [
    "def greeter3(name,\n",
    "    title = 'Dr.',\n",
    "    prompt = 'Hola',\n",
    "    message = 'Bienvenido'):\n",
    "    print(prompt, title, name, '-', message)"
   ]
  },
  {
   "cell_type": "code",
   "execution_count": 23,
   "metadata": {
    "id": "-4SdsflJVPGw"
   },
   "outputs": [
    {
     "name": "stdout",
     "output_type": "stream",
     "text": [
      "Hola Dr. Carlos - Saludos\n"
     ]
    }
   ],
   "source": [
    "greeter3('Carlos', message = 'Saludos')"
   ]
  },
  {
   "cell_type": "code",
   "execution_count": 25,
   "metadata": {
    "id": "zYandtIwVPGw"
   },
   "outputs": [
    {
     "name": "stdout",
     "output_type": "stream",
     "text": [
      "Hola Dr Javier - ¿Cómo estás?\n"
     ]
    }
   ],
   "source": [
    "greeter3('Javier', 'Dr','Hola', '¿Cómo estás?')"
   ]
  },
  {
   "cell_type": "markdown",
   "metadata": {
    "id": "3pOUA2_7VPGw"
   },
   "source": [
    "## Argumentos indeterminados\n",
    "\n",
    "En ciertos casos no se sabe cuantos argumentos usará una función cuando se llame. Python permite pasar un número indeterminado de argumentos en la función y operar con ellos dentro del cuerpo de la función."
   ]
  },
  {
   "cell_type": "code",
   "execution_count": null,
   "metadata": {
    "id": "DCr2d6TcVPGy"
   },
   "outputs": [],
   "source": [
    "def my_sum(x,y):\n",
    "    return x+y"
   ]
  },
  {
   "cell_type": "code",
   "execution_count": null,
   "metadata": {
    "id": "kNeOlRJ5VPGy"
   },
   "outputs": [],
   "source": [
    "my_sum(6,5)"
   ]
  },
  {
   "cell_type": "code",
   "execution_count": null,
   "metadata": {
    "id": "EoJCpmUWVPGy"
   },
   "outputs": [],
   "source": [
    "my_sum(6,5,3)"
   ]
  },
  {
   "cell_type": "code",
   "execution_count": null,
   "metadata": {
    "id": "iiGhhiVmVPGy"
   },
   "outputs": [],
   "source": [
    "def my_sum_args(*args):\n",
    "    value = 0\n",
    "    for n in args:\n",
    "        value += n\n",
    "    return value"
   ]
  },
  {
   "cell_type": "code",
   "execution_count": null,
   "metadata": {
    "id": "LVGqUbFVVPGy"
   },
   "outputs": [],
   "source": [
    "my_sum_args()"
   ]
  },
  {
   "cell_type": "code",
   "execution_count": null,
   "metadata": {
    "id": "Lf4BCEfHVPGz"
   },
   "outputs": [],
   "source": [
    "my_sum_args(6,9)"
   ]
  },
  {
   "cell_type": "code",
   "execution_count": null,
   "metadata": {
    "id": "zZACnRNYVPGz"
   },
   "outputs": [],
   "source": [
    "my_sum_args(6,9,5)"
   ]
  },
  {
   "cell_type": "markdown",
   "metadata": {},
   "source": [
    "**Ejercicio** Crea una función con un número de argumentos indeterminados, en donde ingreses los nombres de las personas que quieras saludar y que imprima el saludo, e.g. \n",
    "\n",
    "Hola Gaby!\n",
    "\n",
    "Hola Luis!"
   ]
  },
  {
   "cell_type": "markdown",
   "metadata": {
    "id": "2g9CH-5rVPGz"
   },
   "source": [
    "## Agumentos keywords"
   ]
  },
  {
   "cell_type": "markdown",
   "metadata": {},
   "source": [
    "En python *\\* kwargs permite a las funciones recibir un número variable de argumentos de tipo (clave valor)"
   ]
  },
  {
   "cell_type": "code",
   "execution_count": 1,
   "metadata": {
    "id": "ThWt0orUVPGz"
   },
   "outputs": [],
   "source": [
    "def my_function_kargs(**kwargs):\n",
    "    for key in kwargs.keys():\n",
    "        print('key:', key, 'has value: ', kwargs[key])"
   ]
  },
  {
   "cell_type": "code",
   "execution_count": 2,
   "metadata": {
    "id": "b9dPQj-GVPG0"
   },
   "outputs": [
    {
     "name": "stdout",
     "output_type": "stream",
     "text": [
      "key: daughter has value:  Phoebe\n",
      "key: son has value:  Adam\n"
     ]
    }
   ],
   "source": [
    "my_function_kargs(daughter='Phoebe', son='Adam')"
   ]
  },
  {
   "cell_type": "code",
   "execution_count": 3,
   "metadata": {
    "id": "gB18ViALVPG0"
   },
   "outputs": [],
   "source": [
    "def my_function_kargs2(c, **kwargs):\n",
    "    for key in kwargs.keys():\n",
    "        print('key:', key, 'has value: ', kwargs[key]+c)"
   ]
  },
  {
   "cell_type": "code",
   "execution_count": null,
   "metadata": {
    "id": "-NwVMqd1VPG0"
   },
   "outputs": [],
   "source": [
    "my_function_kargs2(10, daughter=5, son=3)"
   ]
  },
  {
   "cell_type": "code",
   "execution_count": null,
   "metadata": {},
   "outputs": [],
   "source": []
  },
  {
   "cell_type": "markdown",
   "metadata": {
    "id": "VD0J69Y0VPG0"
   },
   "source": [
    "**Ejercicio** Crea una función con argumentos indeterminados con valor determinado (keyword) y que imprima el nombre de la variable y el valor (key : kyword) usa esta funcion usando como entradas el nombre, la edad y el correo de una persona, de salida tienes que obtener\n",
    "\n",
    "nombre :  Gaby\n",
    "\n",
    "edad :  36\n",
    "\n",
    "correo :  gbdiaz@imp.mx\n"
   ]
  },
  {
   "cell_type": "code",
   "execution_count": null,
   "metadata": {
    "id": "6q5bD9LmVPG1"
   },
   "outputs": [],
   "source": []
  },
  {
   "cell_type": "markdown",
   "metadata": {
    "id": "RAG3To1zVPG1"
   },
   "source": [
    "## Funciones anónimas\n",
    "\n",
    "Sí necesitamos usar una función que solo se usará una vez, no es necesario asignarle un nombre en específico. Es posible definir una función anónima, y que se usa en el momento en que es definida. Las funciones anónimas se definen con la keyword lambda y por eso a este tipo de funciones se les conoce como funciones lambda.\n",
    "\n",
    "**lambda** arguments : expression"
   ]
  },
  {
   "cell_type": "code",
   "execution_count": null,
   "metadata": {
    "id": "MDGMM107VPG1"
   },
   "outputs": [],
   "source": [
    "square = lambda i : i*i"
   ]
  },
  {
   "cell_type": "code",
   "execution_count": null,
   "metadata": {
    "id": "FOwiKyM6VPG1"
   },
   "outputs": [],
   "source": [
    "square(5)"
   ]
  },
  {
   "cell_type": "markdown",
   "metadata": {
    "id": "T4AriOpjVPG1"
   },
   "source": [
    "## Variables locales y variables globales\n",
    "\n",
    "Las **variables globales** son accesiles desde cualquier parte del programa.\n",
    "\n",
    "Las **variables locales** se definen dentro del cuerpo de las funciones y no son accesibles o visibles afuera de la función. Las **variables locales** son de gran ayuda pare desarrollar un código modular, que se ha probado que es más fácil de mantener desarrollar y probar.\n",
    "\n",
    "\n",
    "Usualmente los desarrolladores tatan de minimizar el número de variables globales en sus programas dado que se puede acceder y modificar desde cualquier parte del cuerpo del programa y esto puede resultar en comportamientos inesperados del programa"
   ]
  },
  {
   "cell_type": "markdown",
   "metadata": {
    "id": "k6DXEx6dVPG1"
   },
   "source": [
    "## Variables locales"
   ]
  },
  {
   "cell_type": "code",
   "execution_count": null,
   "metadata": {
    "id": "B2sJhZ8MVPG1"
   },
   "outputs": [],
   "source": [
    "def my_function():\n",
    "    a_variable = 100\n",
    "    print(a_variable)"
   ]
  },
  {
   "cell_type": "code",
   "execution_count": null,
   "metadata": {
    "id": "teLgj5FKVPG1"
   },
   "outputs": [],
   "source": [
    "my_function()"
   ]
  },
  {
   "cell_type": "code",
   "execution_count": null,
   "metadata": {
    "id": "FnzpxrnzVPG1"
   },
   "outputs": [],
   "source": [
    "my_function()\n",
    "print(a_variable)"
   ]
  },
  {
   "cell_type": "code",
   "execution_count": null,
   "metadata": {
    "id": "6S9bWlXuVPG2"
   },
   "outputs": [],
   "source": [
    "a_variable = 25\n",
    "my_function()\n",
    "print(a_variable)"
   ]
  },
  {
   "cell_type": "markdown",
   "metadata": {
    "id": "vEo7kw19VPG3"
   },
   "source": [
    "## Variables Globales"
   ]
  },
  {
   "cell_type": "code",
   "execution_count": null,
   "metadata": {
    "id": "XzvSOx4_VPG3"
   },
   "outputs": [],
   "source": [
    "max = 100\n",
    "def print_max():\n",
    "    print(max)\n",
    "print_max()"
   ]
  },
  {
   "cell_type": "code",
   "execution_count": null,
   "metadata": {
    "id": "K_CucvWVVPG4"
   },
   "outputs": [],
   "source": [
    "def print_max():\n",
    "    max = max + 1\n",
    "    print(max)\n",
    "print_max()"
   ]
  },
  {
   "cell_type": "code",
   "execution_count": null,
   "metadata": {
    "id": "MtN1AP_iVPG4"
   },
   "outputs": [],
   "source": [
    "def print_max():\n",
    "    global max\n",
    "    max = max + 1\n",
    "    print(max)"
   ]
  },
  {
   "cell_type": "code",
   "execution_count": null,
   "metadata": {
    "id": "d8R58HCxVPG4"
   },
   "outputs": [],
   "source": [
    "print_max()\n",
    "print(max)"
   ]
  },
  {
   "cell_type": "markdown",
   "metadata": {
    "id": "NjQxshbtVPG5"
   },
   "source": [
    "**Ejercicio Calculadora**  Construye una función que lea una operacion y dos variables y que imprima los valores de entrada, la operación, el resultado y de como salida la operación seleccionada, e.g.\n",
    "\n",
    "```python\n",
    "calculadora()\n",
    "```\n",
    "\n",
    "```\n",
    "Da el primer numero:\n",
    "2\n",
    "Da el segundo:\n",
    "2\n",
    "Da la operación:\n",
    "*\n",
    "2*2= 4.0\n",
    "```"
   ]
  },
  {
   "cell_type": "code",
   "execution_count": null,
   "metadata": {
    "id": "HerKw9MjVPG5"
   },
   "outputs": [],
   "source": []
  }
 ],
 "metadata": {
  "colab": {
   "provenance": []
  },
  "kernelspec": {
   "display_name": "Python 3 (ipykernel)",
   "language": "python",
   "name": "python3"
  },
  "language_info": {
   "codemirror_mode": {
    "name": "ipython",
    "version": 3
   },
   "file_extension": ".py",
   "mimetype": "text/x-python",
   "name": "python",
   "nbconvert_exporter": "python",
   "pygments_lexer": "ipython3",
   "version": "3.12.4"
  }
 },
 "nbformat": 4,
 "nbformat_minor": 4
}
