{
 "cells": [
  {
   "cell_type": "markdown",
   "metadata": {},
   "source": [
    "<div style=\"background-color:#f2f2f2; border-left: 8px solid #2e8b57; padding: 20px; border-radius: 10px; font-family: Arial, sans-serif;\">\n",
    "\n",
    "<center>\n",
    "\n",
    "<h1 style=\"color:#2e8b57;\">Introducción a la programación en Python</h1>\n",
    "<h2 style=\"color:#2e8b57;\">Instituto Mexicano del Petróleo</h2>\n",
    "\n",
    "<p style=\"font-size:16px; color:#333;\">\n",
    "<strong>Dra. Gabriela Berenice Díaz Cortés</strong><br>\n",
    "<em>gbdiaz@imp.mx</em>\n",
    "</p>\n",
    "\n",
    "<p style=\"font-size:16px; color:#333;\">\n",
    "<strong>Dr. Luis Antonio López Peña</strong><br>\n",
    "<em>llopezp@imp.mx</em>\n",
    "</p>\n",
    "\n",
    "<p style=\"font-size:15px; color:#555;\">\n",
    "Dirección de Investigación <br>\n",
    "Gerencia de Investigación en Explotación\n",
    "</p>\n",
    "\n",
    "</center>\n",
    "\n",
    "</div>"
   ]
  },
  {
   "cell_type": "markdown",
   "metadata": {
    "id": "6anX9KDIb5bw"
   },
   "source": [
    "## Desarrollo de scripts\n",
    "\n",
    "* **Operadores en Python**\n",
    "    - Operadores de comparación\n",
    "    - Operadores lógicos\n",
    "\n",
    "* **Ciclos y condicionales**\n",
    "    - Condicionales if\n",
    "    - Ciclos while\n",
    "    - Ciclos for\n",
    "    - Ciclos anidados\n",
    "    - Iterandos\n",
    "\n",
    "* **Funciones**\n",
    "    - Definición de funciones\n",
    "    - Funciones con argumentos indeterminados\n",
    "    - Funciones con argumentos keywords\n",
    "    - Funciones anónimas\n",
    "\n",
    "* **Variables locales y variables globales**\n"
   ]
  },
  {
   "cell_type": "markdown",
   "metadata": {
    "id": "MCZ_3hweZ1Qf"
   },
   "source": [
    "## Operadores de comparación\n",
    "\n",
    "\n",
    "\n",
    "Además de las operaciones básicas, las variables se pueden comparar. Los operadores de comparación son operadores que regresan valores booleanos, es decir True or False. Son importantes para flujo de control en condiconales if y en ciclos while. \n",
    "\\begin{array}{|c|l|} \\hline\n",
    "Símbolo  & Operación      \\\\ \\hline\n",
    "<        & \\text{Menor que} \\\\ \\hline\n",
    ">        & \\text{Mayor que} \\\\ \\hline\n",
    "<=       & \\text{Menor o igual que}\\\\ \\hline\n",
    ">=       & \\text{Mayor o igual que} \\\\ \\hline\n",
    "==       & \\text{Igual a}\\\\ \\hline\n",
    "!=       & \\text{Diferente de}\\\\ \\hline\n",
    "\\end{array}"
   ]
  },
  {
   "cell_type": "code",
   "execution_count": null,
   "metadata": {
    "id": "W54Qh0_cb5by"
   },
   "outputs": [],
   "source": [
    "a = 2 \n",
    "b = 1.99\n",
    "c = '2'\n",
    "print('a = {}, b = {}, c  = \\'{}\\' '.format(a,b,c))\n",
    "#print(c)"
   ]
  },
  {
   "cell_type": "code",
   "execution_count": null,
   "metadata": {
    "id": "Un1eMrrwb5bz"
   },
   "outputs": [],
   "source": [
    "print('a > b,  {}'.format(a > b))\n"
   ]
  },
  {
   "cell_type": "code",
   "execution_count": null,
   "metadata": {
    "id": "ZLts-tn4b5b0"
   },
   "outputs": [],
   "source": [
    "print('a < b,  {}'.format(a < b))\n"
   ]
  },
  {
   "cell_type": "code",
   "execution_count": null,
   "metadata": {
    "id": "4Ok_jHIgb5b0"
   },
   "outputs": [],
   "source": [
    "print('a == c, {}'.format(a == c))\n"
   ]
  },
  {
   "cell_type": "code",
   "execution_count": null,
   "metadata": {
    "id": "vcs7XvdTb5b0"
   },
   "outputs": [],
   "source": [
    "print('a != c, {}'.format(a != c))"
   ]
  },
  {
   "cell_type": "markdown",
   "metadata": {},
   "source": [
    "## El módulo\n",
    "\n",
    "La operación módulo obtiene el residuo de la división entera de 2 números.\n",
    "\n"
   ]
  },
  {
   "cell_type": "code",
   "execution_count": null,
   "metadata": {},
   "outputs": [],
   "source": [
    "6%4"
   ]
  },
  {
   "cell_type": "code",
   "execution_count": null,
   "metadata": {},
   "outputs": [],
   "source": [
    "3%5"
   ]
  },
  {
   "cell_type": "code",
   "execution_count": null,
   "metadata": {},
   "outputs": [],
   "source": [
    "3%5==8"
   ]
  },
  {
   "cell_type": "code",
   "execution_count": null,
   "metadata": {
    "id": "Qr-mWRWxb5b0"
   },
   "outputs": [],
   "source": [
    "a = 5\n",
    "b = 3\n",
    "print('a = {}, b = {}, a % b = {}'.format(a,b,a%b))\n",
    "print('a- a%b = {}, b = {}'.format(a-a%b,b))\n"
   ]
  },
  {
   "cell_type": "markdown",
   "metadata": {
    "id": "dqoQnxW7_cJ8"
   },
   "source": [
    "**Ejercicios**. Considere que a=4, b=10, c=5 d=1 y f=5\n",
    "\n",
    "\n",
    "\\begin{array}{|c|l|} \\hline\n",
    "Expresión  & Resultado      \\\\ \\hline\n",
    "a==c        &  False \\\\ \\hline\n",
    "a<b        &  \\\\ \\hline\n",
    "d>b       & \\\\ \\hline\n",
    "c!= f       &  \\\\ \\hline\n",
    "a==b       & \\\\ \\hline\n",
    "c>d       & \\\\ \\hline\n",
    "b>a       & \\\\ \\hline\n",
    "c>= f       &  \\\\ \\hline\n",
    "a>=c       & \\\\ \\hline\n",
    "c<=c       & \\\\ \\hline\n",
    "\\end{array}\n",
    "\n",
    "\n"
   ]
  },
  {
   "cell_type": "markdown",
   "metadata": {
    "id": "AYQcLyLBb5b0"
   },
   "source": [
    "## Operadores Lógicos\n",
    "\n",
    "Los operadores lógicos se pueden usar en conjunto con las expresiones booleanas para crear condiciones mas complejas.\n",
    "\n",
    "\\begin{array}{|c|l|} \\hline\n",
    "Operador  & Descripción     \\\\ \\hline\n",
    "and        & \\text{Es verdadero si ambas condiciones son ciertas. Es falso si alguna de las 2 condiciones son falsas} \\\\ \\hline\n",
    "or        & \\text{Es verdadero si una de las 2 condiciones son ciertas. Es falso si las 2 condiciones son falsas } \\\\ \\hline\n",
    "not        & \\text{Es verdadero si el valor a prueba es falso. Es falso su el valor a evaluar es verdadero} \\\\ \\hline\n",
    "\\end{array}\n",
    "\n",
    "\n",
    "Estos operadores se pueden describir explícitamente con sus tablas de verdad. La tabla de verdad muestra el resultado de una operación con uno o dos valores lógicos u operandos. Cuando el operador utiliza solo un operando, decimos que es un operador unario y si utiliza dos operando se conoce como un operador binario\n",
    "\n",
    "## Operador and\n",
    "\n",
    "La tabla de verdad del operador and se muestra a continuación:\n",
    "\n",
    "\\begin{array}{|c|l|c|} \\hline\n",
    "\\text{P1}  & \\text{P2} & \\text{P1 and P2}     \\\\ \\hline\n",
    "V &  V     & V \\\\ \\hline\n",
    "V  & F     & F \\\\ \\hline\n",
    "F  & V    & F \\\\ \\hline\n",
    "F &  F    &  F\\\\ \\hline\n",
    "\\end{array}"
   ]
  },
  {
   "cell_type": "code",
   "execution_count": null,
   "metadata": {
    "colab": {
     "base_uri": "https://localhost:8080/"
    },
    "executionInfo": {
     "elapsed": 257,
     "status": "ok",
     "timestamp": 1681347511716,
     "user": {
      "displayName": "Luis Antonio",
      "userId": "10599916469398678728"
     },
     "user_tz": 360
    },
    "id": "So84bL6Vb5b1",
    "outputId": "9efa502d-21e1-40c8-f0ed-b5188fdb5d9f"
   },
   "outputs": [],
   "source": [
    "True and True\n"
   ]
  },
  {
   "cell_type": "code",
   "execution_count": null,
   "metadata": {},
   "outputs": [],
   "source": [
    "True and False"
   ]
  },
  {
   "cell_type": "code",
   "execution_count": null,
   "metadata": {},
   "outputs": [],
   "source": [
    "False and True"
   ]
  },
  {
   "cell_type": "code",
   "execution_count": null,
   "metadata": {},
   "outputs": [],
   "source": [
    "False and False"
   ]
  },
  {
   "cell_type": "code",
   "execution_count": null,
   "metadata": {
    "colab": {
     "base_uri": "https://localhost:8080/"
    },
    "executionInfo": {
     "elapsed": 136,
     "status": "ok",
     "timestamp": 1681531864717,
     "user": {
      "displayName": "Luis Antonio",
      "userId": "10599916469398678728"
     },
     "user_tz": 360
    },
    "id": "4gvPsjnLHOz-",
    "outputId": "414f70b1-8ee3-457d-9186-c5b4ef393e56"
   },
   "outputs": [],
   "source": [
    "a = 5\n",
    "b = 3\n",
    "\n",
    "print(a>b and b>a)"
   ]
  },
  {
   "cell_type": "code",
   "execution_count": null,
   "metadata": {
    "id": "LJ85DpPjb5b1"
   },
   "outputs": [],
   "source": [
    "a = 5\n",
    "b = 3\n",
    "c = 10\n",
    "d = 10.0000000001\n",
    "\n",
    "print(a>b and c<d)"
   ]
  },
  {
   "cell_type": "markdown",
   "metadata": {
    "id": "GGCU35DgHa5l"
   },
   "source": [
    "## Operador or\n",
    "\n",
    "La tabla de verdad del operador and se muestra a continuación:\n",
    "\n",
    "\\begin{array}{|c|l|c|} \\hline\n",
    "P1  & P2 & P1 or P2     \\\\ \\hline\n",
    "V &  V     & V \\\\ \\hline\n",
    "V  & F     & V \\\\ \\hline\n",
    "F  & V    & V \\\\ \\hline\n",
    "F &  F    &  F\\\\ \\hline\n",
    "\\end{array}"
   ]
  },
  {
   "cell_type": "code",
   "execution_count": null,
   "metadata": {},
   "outputs": [],
   "source": [
    "True or True"
   ]
  },
  {
   "cell_type": "code",
   "execution_count": null,
   "metadata": {},
   "outputs": [],
   "source": [
    "True or False"
   ]
  },
  {
   "cell_type": "code",
   "execution_count": null,
   "metadata": {},
   "outputs": [],
   "source": [
    "False or True"
   ]
  },
  {
   "cell_type": "code",
   "execution_count": null,
   "metadata": {},
   "outputs": [],
   "source": [
    "False or False"
   ]
  },
  {
   "cell_type": "code",
   "execution_count": null,
   "metadata": {
    "colab": {
     "base_uri": "https://localhost:8080/"
    },
    "executionInfo": {
     "elapsed": 147,
     "status": "ok",
     "timestamp": 1681347634102,
     "user": {
      "displayName": "Luis Antonio",
      "userId": "10599916469398678728"
     },
     "user_tz": 360
    },
    "id": "I5YLgkU9IGlx",
    "outputId": "11d52906-7fa3-48c8-a766-0a6ce992360c"
   },
   "outputs": [],
   "source": [
    "a = 5\n",
    "b = 3\n",
    "\n",
    "print(a>b or b>a)"
   ]
  },
  {
   "cell_type": "markdown",
   "metadata": {
    "id": "Wa9BLDVJIiJB"
   },
   "source": [
    "## Operador not\n",
    "EL operador not es el más simple pues solo necesita un operando. La tabla de verdad der este operador se muestra a continuación:\n",
    "\n",
    "\\begin{array}{|c|l|} \\hline\n",
    "P1  & not P1      \\\\ \\hline\n",
    "V &  F     \\\\ \\hline\n",
    "F  & V     \\\\ \\hline\n",
    "\\end{array}"
   ]
  },
  {
   "cell_type": "code",
   "execution_count": null,
   "metadata": {
    "colab": {
     "base_uri": "https://localhost:8080/"
    },
    "executionInfo": {
     "elapsed": 151,
     "status": "ok",
     "timestamp": 1681347955367,
     "user": {
      "displayName": "Luis Antonio",
      "userId": "10599916469398678728"
     },
     "user_tz": 360
    },
    "id": "WVGqvMmjb5b1",
    "outputId": "0889a8ed-04e6-4d9d-bdcf-7fcaf8874b30"
   },
   "outputs": [],
   "source": [
    "not True"
   ]
  },
  {
   "cell_type": "code",
   "execution_count": null,
   "metadata": {
    "id": "AVwmeXzyJYCQ"
   },
   "outputs": [],
   "source": [
    "print(not(a>b and b>a))"
   ]
  },
  {
   "cell_type": "markdown",
   "metadata": {
    "id": "_FJQsWsBb5b1"
   },
   "source": [
    "**Ejercicios**. Considere que a=True, b=False y c= True\n",
    "\n",
    "\n",
    "\\begin{array}{|c|l|} \\hline\n",
    "Expresión  & Resultado      \\\\ \\hline\n",
    "\\text{a  and a}        &  \\\\ \\hline\n",
    "\\text{not c}        &  \\\\ \\hline\n",
    "\\text{a and b}       & \\\\ \\hline\n",
    "\\text{b and c}       &  \\\\ \\hline\n",
    "\\text{a or c}       & \\\\ \\hline\n",
    "\\text{b or c}       & \\\\ \\hline\n",
    "\\text{c or c}       & \\\\ \\hline\n",
    "\\text{c or a}       &  \\\\ \\hline\n",
    "\\text{a>=c}       & \\\\ \\hline\n",
    "\\text {c<=c}       & \\\\ \\hline\n",
    "\\end{array}\n",
    "\n"
   ]
  },
  {
   "cell_type": "markdown",
   "metadata": {
    "id": "SOViZEX9L_Ts"
   },
   "source": [
    "## Expresiones lógicas \n",
    "\n",
    "Cuando una expresión tienen más de un operador lógico, se evalua el operador not primero, seguido del operador and y finalmente el operador or.\n",
    "\n",
    "True or False and not True\n",
    "\n"
   ]
  },
  {
   "cell_type": "code",
   "execution_count": 1,
   "metadata": {
    "colab": {
     "base_uri": "https://localhost:8080/"
    },
    "executionInfo": {
     "elapsed": 149,
     "status": "ok",
     "timestamp": 1681349652903,
     "user": {
      "displayName": "Luis Antonio",
      "userId": "10599916469398678728"
     },
     "user_tz": 360
    },
    "id": "BmUqxfkzP3dD",
    "outputId": "373b4cc9-35e4-4b2e-868a-23b332684e45"
   },
   "outputs": [
    {
     "data": {
      "text/plain": [
       "True"
      ]
     },
     "execution_count": 1,
     "metadata": {},
     "output_type": "execute_result"
    }
   ],
   "source": [
    "True or False and not True"
   ]
  },
  {
   "cell_type": "code",
   "execution_count": null,
   "metadata": {
    "colab": {
     "base_uri": "https://localhost:8080/"
    },
    "executionInfo": {
     "elapsed": 166,
     "status": "ok",
     "timestamp": 1681532452473,
     "user": {
      "displayName": "Luis Antonio",
      "userId": "10599916469398678728"
     },
     "user_tz": 360
    },
    "id": "xx51RH50QMvb",
    "outputId": "95da415c-3388-4c8a-c394-80afa5c572c9"
   },
   "outputs": [],
   "source": [
    "True and False and not True"
   ]
  },
  {
   "cell_type": "code",
   "execution_count": null,
   "metadata": {
    "colab": {
     "base_uri": "https://localhost:8080/"
    },
    "executionInfo": {
     "elapsed": 285,
     "status": "ok",
     "timestamp": 1681349867083,
     "user": {
      "displayName": "Luis Antonio",
      "userId": "10599916469398678728"
     },
     "user_tz": 360
    },
    "id": "YzSfXVzwQnk_",
    "outputId": "41b360cb-0791-444d-aac9-ff4255dc1e69"
   },
   "outputs": [],
   "source": [
    "True or not False and True"
   ]
  },
  {
   "cell_type": "markdown",
   "metadata": {
    "id": "fY--NIU1UMJy"
   },
   "source": [
    "Los operadores de comparación pueden ser usados en expresiones con operaciones lógicos."
   ]
  },
  {
   "cell_type": "code",
   "execution_count": null,
   "metadata": {
    "colab": {
     "base_uri": "https://localhost:8080/"
    },
    "executionInfo": {
     "elapsed": 181,
     "status": "ok",
     "timestamp": 1681350871979,
     "user": {
      "displayName": "Luis Antonio",
      "userId": "10599916469398678728"
     },
     "user_tz": 360
    },
    "id": "Qbv_vjPMUWAB",
    "outputId": "d4c16aa3-ece0-4da6-b49f-3a0a85acaa77"
   },
   "outputs": [],
   "source": [
    "salario =100\n",
    "edad=20\n",
    "\n",
    "salario > 1000 and edad >18"
   ]
  },
  {
   "cell_type": "markdown",
   "metadata": {
    "id": "sIETKcepU9GO"
   },
   "source": [
    "**Ejercicios.** Escriba el resultado de la siguiente expresión A > B and C or D\n",
    "\n",
    "\\begin{array}{|c|l|c|c|c|} \\hline\n",
    "A  & B & C & D & Resultado     \\\\ \\hline\n",
    "1 &  2 & True & False    &  \\\\ \\hline\n",
    "2 &  1 & False & True    &  \\\\ \\hline\n",
    "10 &  3 & False & False    &  \\\\ \\hline\n",
    "5 &  1 & True & True    &  \\\\ \\hline\n",
    "5 &  5 & True & False    &  \\\\ \\hline\n",
    "\\end{array}"
   ]
  },
  {
   "cell_type": "markdown",
   "metadata": {
    "id": "Wqw-u8uwb5b2"
   },
   "source": [
    "## Condicionales\n",
    "Los condicionales se usan para realizar una operación si (if) algo pasa, la sintaxis es la siguiente.\n",
    "### If\n",
    "\\begin{array}{ll} \n",
    "if    & condición:     \\\\\n",
    "      & \\text{operaciones} \\\\ \n",
    "\\end{array}\n",
    "\n"
   ]
  },
  {
   "cell_type": "code",
   "execution_count": null,
   "metadata": {
    "colab": {
     "base_uri": "https://localhost:8080/"
    },
    "executionInfo": {
     "elapsed": 157,
     "status": "ok",
     "timestamp": 1681522890163,
     "user": {
      "displayName": "Luis Antonio",
      "userId": "10599916469398678728"
     },
     "user_tz": 360
    },
    "id": "HQ-WLcg6cDHK",
    "outputId": "bd45fccb-60ff-4623-93ee-46aab5e46468"
   },
   "outputs": [],
   "source": [
    "num = -5\n",
    "if num <0:\n",
    "  print(num, ' es negativo')"
   ]
  },
  {
   "cell_type": "code",
   "execution_count": null,
   "metadata": {
    "colab": {
     "base_uri": "https://localhost:8080/"
    },
    "executionInfo": {
     "elapsed": 9525,
     "status": "ok",
     "timestamp": 1681522903465,
     "user": {
      "displayName": "Luis Antonio",
      "userId": "10599916469398678728"
     },
     "user_tz": 360
    },
    "id": "HrPHMIj4h2QV",
    "outputId": "b64f1e0b-ea77-4103-e630-77cf7155eca6"
   },
   "outputs": [],
   "source": [
    "a = int(input(\"Primer valor: \"))\n",
    "b = int(input(\"Segundo valor: \"))\n",
    "\n",
    "if a > b:\n",
    "  print(\"¡El primer número es el mayor!\")"
   ]
  },
  {
   "cell_type": "markdown",
   "metadata": {
    "id": "d6nCbDYUm_PW"
   },
   "source": [
    "**Ejemplo**\n",
    "\n",
    "Escribir un programa que pregunte la velocidad del auto de un usuario. En caso que supere los 80km/h, que muestre un mensaje diciendo que el usuario fue multado."
   ]
  },
  {
   "cell_type": "code",
   "execution_count": 2,
   "metadata": {},
   "outputs": [
    {
     "name": "stdout",
     "output_type": "stream",
     "text": [
      "Ingrese la velocidad de su auto: 5\n"
     ]
    }
   ],
   "source": [
    "vel = int(input('Ingrese la velocidad de su auto: '))\n",
    "\n",
    "if vel > 80:\n",
    "  print('Usted ha sido multado')"
   ]
  },
  {
   "cell_type": "markdown",
   "metadata": {
    "id": "kTi00id-pYbZ"
   },
   "source": [
    "\n",
    "\n",
    "**Ejercicio** \n",
    "\n",
    "Escribir un programa que pregunte la velocidad del auto de un usuario. En caso que supere los 80km/h, que muestre un mensaje diciendo que el usuario fue multado. En este caso, exhibir el valor de la multa, cobrando 200 pesos por cada km/h encima de los 80 km/h\n",
    "\n"
   ]
  },
  {
   "cell_type": "code",
   "execution_count": null,
   "metadata": {},
   "outputs": [],
   "source": []
  },
  {
   "cell_type": "markdown",
   "metadata": {
    "id": "DYV-SOhieIVE"
   },
   "source": [
    "## if y else\n",
    "Si la condición en la declaracioń if es falsa, se ejecutará la parte del código depsues del else.\n",
    "\n",
    "\\begin{array}{ll} \n",
    "if    & condición:     \\\\\n",
    "      & \\text{operaciones} \\\\ \n",
    "else: & \\\\\n",
    "      & \\text{operaciones} \\\\ \n",
    "\\end{array}\n"
   ]
  },
  {
   "cell_type": "markdown",
   "metadata": {},
   "source": [
    "**Ejemplo** "
   ]
  },
  {
   "cell_type": "code",
   "execution_count": null,
   "metadata": {},
   "outputs": [],
   "source": [
    "num = int(input('Ingresa un nuevo número: '))\n",
    "if num < 0:\n",
    "  print('El número es negativo')\n",
    "else:\n",
    "  print('El número es no negativo')"
   ]
  },
  {
   "cell_type": "markdown",
   "metadata": {
    "id": "NfMISUVkX_Y4"
   },
   "source": [
    "**Ejemplo**. Escribe un programa que imprima si un número es par o impar. \n"
   ]
  },
  {
   "cell_type": "code",
   "execution_count": 4,
   "metadata": {},
   "outputs": [
    {
     "name": "stdout",
     "output_type": "stream",
     "text": [
      "Ingresa un nuevo número: 5\n",
      "5 es un número impar\n"
     ]
    }
   ],
   "source": [
    "num = int(input('Ingresa un nuevo número: '))\n",
    "\n",
    "if num%2==0:\n",
    "    print (num, 'es un número par')\n",
    "else:\n",
    "    print (num, 'es un número impar')"
   ]
  },
  {
   "cell_type": "markdown",
   "metadata": {},
   "source": [
    "**Ejercicio.** Escribir un programa que pregunte el salario de un empleado y calcule el valor del aumento. Para salarios superiores a 20000 pesos, el aumento sera de 10%. Para salarios inferiores o iguales a 20000 el aumento será del 15%."
   ]
  },
  {
   "cell_type": "code",
   "execution_count": null,
   "metadata": {},
   "outputs": [],
   "source": []
  },
  {
   "cell_type": "markdown",
   "metadata": {
    "id": "tX6tRmmzAFus"
   },
   "source": [
    "## if, elif, else\n",
    "En el caso en que se necesitan evaluar distintas condiciones, se utiliza la siguiente estructura,\n",
    "\n",
    "\\begin{array}{ll} \n",
    "if    & condición:     \\\\\n",
    "      & \\text{operaciones} \\\\ \n",
    "elif  & condición:     \\\\ \n",
    "      & \\text{operaciones} \\\\ \n",
    "else: & \\\\\n",
    "      & \\text{operaciones} \\\\ \n",
    "\\end{array}\n",
    "Cada declaración se ejecuta solo si la anterior resultó Falsa."
   ]
  },
  {
   "cell_type": "code",
   "execution_count": 5,
   "metadata": {
    "colab": {
     "base_uri": "https://localhost:8080/"
    },
    "executionInfo": {
     "elapsed": 5121,
     "status": "ok",
     "timestamp": 1681531820955,
     "user": {
      "displayName": "Luis Antonio",
      "userId": "10599916469398678728"
     },
     "user_tz": 360
    },
    "id": "Y64SHLO1GrPI",
    "outputId": "5ebc8c8b-0c93-4238-a3f6-25cdd7fa250b"
   },
   "outputs": [
    {
     "name": "stdout",
     "output_type": "stream",
     "text": [
      "Ingresa cuánto tienes en ahorros: -100\n",
      "¡Bien hecho!\n"
     ]
    }
   ],
   "source": [
    "ahorros = float(input(\"Ingresa cuánto tienes en ahorros: \"))\n",
    "if ahorros == 0:\n",
    "    print(\"Lo siento, no tienes ahorros\")\n",
    "elif ahorros < 500:\n",
    "    print(\"¡Bien hecho!\")\n",
    "elif ahorros < 1000:\n",
    "    print(\"Es una suma considerable\")\n",
    "else :\n",
    "    print(\"Tiene suficientes ahorros\")\n"
   ]
  },
  {
   "cell_type": "code",
   "execution_count": null,
   "metadata": {
    "id": "Pub8XMMoAM8N"
   },
   "outputs": [],
   "source": [
    "a = 101\n",
    "b = 100\n",
    "c = 500\n",
    "\n",
    "if  a > b or b> c:\n",
    "    print( ' \\'b\\'  es mayor a \\'a\\'  o \\'b\\' es mayor a \\'c\\' ' )\n",
    "elif a < b and b< c:\n",
    "    print( ' a es menor que b y b es menor que c')\n",
    "else:\n",
    "    print('Cualquier otro')"
   ]
  },
  {
   "cell_type": "code",
   "execution_count": null,
   "metadata": {
    "id": "OEWWBAUMAqbz"
   },
   "outputs": [],
   "source": [
    "a = 20\n",
    "b = 10\n",
    "if a < b:\n",
    "    c = a*b\n",
    "elif a==b:\n",
    "    c = a+b\n",
    "else:\n",
    "    c = a-b  \n",
    "print ('c: ',c)"
   ]
  },
  {
   "cell_type": "markdown",
   "metadata": {
    "id": "peNqR05aIOBX"
   },
   "source": [
    "**Ejercicio** Escribe un programa que imprima si un número es positivo o negativo"
   ]
  },
  {
   "cell_type": "code",
   "execution_count": null,
   "metadata": {},
   "outputs": [],
   "source": []
  },
  {
   "cell_type": "markdown",
   "metadata": {},
   "source": [
    "**Ejercicio** Escribe un programa que le pida al usuario una calificación (de 0 a 100) y muestre:\n",
    "\n",
    "\"Excelente\" si la calificación es mayor o igual a 90\n",
    "\n",
    "\"Bien\" si está entre 70 y 89\n",
    "\n",
    "\"Suficiente\" si está entre 60 y 69\n",
    "\n",
    "\"Reprobado\" si es menor a 60\n",
    "\n",
    "Si el número es inválido (menor que 0 o mayor que 100), mostrar \"Calificación inválida\""
   ]
  },
  {
   "cell_type": "code",
   "execution_count": null,
   "metadata": {},
   "outputs": [],
   "source": []
  },
  {
   "cell_type": "markdown",
   "metadata": {
    "id": "5wOm1to5b5b2"
   },
   "source": [
    "## Ciclos\n",
    "### While\n",
    "El ciclo while sirve para realizar operaciones de manera repetida siempre y cuando se cumplan una o varias condiciones. La sintaxis es la siguiente.\n",
    "\n",
    "\n",
    "\\begin{array}{ll} \n",
    "while & condición:     \\\\\n",
    "      & \\text{operaciones} \\\\ \n",
    "\\end{array}\n",
    "\n",
    "\n",
    "\\begin{array}{ll} \n",
    "while & \\text{(condición1) and/or (condición2)}:     \\\\\n",
    "      & \\text{operaciones} \\\\ \n",
    "\\end{array}\n",
    "\n",
    "\n",
    "<center>\n",
    "<img src=\"https://github.com/gbdiazc/Images/blob/6998851d3c940565da46ba3aaa1e004a5b05f667/W_loop.png?raw=1\" width=\"300\"> \n",
    "</center>\n"
   ]
  },
  {
   "cell_type": "markdown",
   "metadata": {
    "id": "_apqGTmdb5b3"
   },
   "source": [
    " **Ejemplo**\n",
    "Se realiza un ciclo hasta que:\n",
    "\n",
    "a) Se alcance el máximo número de iteraciones\n"
   ]
  },
  {
   "cell_type": "code",
   "execution_count": null,
   "metadata": {
    "colab": {
     "base_uri": "https://localhost:8080/"
    },
    "executionInfo": {
     "elapsed": 155,
     "status": "ok",
     "timestamp": 1681537296272,
     "user": {
      "displayName": "Luis Antonio",
      "userId": "10599916469398678728"
     },
     "user_tz": 360
    },
    "id": "fUWcz7Wbat0s",
    "outputId": "6ebb4d73-bf50-48ca-9c3e-453647200975"
   },
   "outputs": [],
   "source": [
    "x=1 \n",
    "while x <= 3:\n",
    "  print(x)\n",
    "  x = x + 1 "
   ]
  },
  {
   "cell_type": "markdown",
   "metadata": {
    "id": "iRYIshsXb7Ii"
   },
   "source": [
    "**Ejercicio.** Modificar el código anterior para que se impriman los números del 50 al 100"
   ]
  },
  {
   "cell_type": "code",
   "execution_count": null,
   "metadata": {
    "id": "mVZX0xXMcLGg"
   },
   "outputs": [],
   "source": []
  },
  {
   "cell_type": "markdown",
   "metadata": {},
   "source": [
    "**Ejemplo** Contador"
   ]
  },
  {
   "cell_type": "code",
   "execution_count": 6,
   "metadata": {
    "colab": {
     "base_uri": "https://localhost:8080/"
    },
    "executionInfo": {
     "elapsed": 147,
     "status": "ok",
     "timestamp": 1681537224617,
     "user": {
      "displayName": "Luis Antonio",
      "userId": "10599916469398678728"
     },
     "user_tz": 360
    },
    "id": "IYMI-26mbbzB",
    "outputId": "0ab372c8-368e-48b4-84d7-26fccf1cddde"
   },
   "outputs": [
    {
     "name": "stdout",
     "output_type": "stream",
     "text": [
      "contador = 1\n",
      "contador = 2\n",
      "contador = 3\n",
      "contador = 4\n",
      "contador = 5\n",
      "contador = 6\n",
      "contador = 7\n",
      "contador = 8\n",
      "contador = 9\n",
      "contador = 10\n"
     ]
    }
   ],
   "source": [
    "MaxIter  = 10\n",
    "contador = 0\n",
    "while (contador < MaxIter):\n",
    "        contador +=  1\n",
    "        print('contador = {}'.format(contador))  "
   ]
  },
  {
   "cell_type": "markdown",
   "metadata": {
    "id": "OiNiwUO9b5b3"
   },
   "source": [
    "**Ejemplo**  Iniciando con una variable p = 1, multiplicar esta variable por 0.1 y parar cuando p < Tol = 1e-7\n"
   ]
  },
  {
   "cell_type": "code",
   "execution_count": 6,
   "metadata": {
    "id": "ZmzSdI_5b5b3"
   },
   "outputs": [
    {
     "name": "stdout",
     "output_type": "stream",
     "text": [
      "p = 0.1\n",
      "p = 0.010000000000000002\n",
      "p = 0.0010000000000000002\n",
      "p = 0.00010000000000000003\n",
      "p = 1.0000000000000004e-05\n",
      "p = 1.0000000000000004e-06\n",
      "p = 1.0000000000000005e-07\n",
      "p = 1.0000000000000005e-08\n"
     ]
    }
   ],
   "source": [
    "Tol      = 1e-7\n",
    "p        = 1.0\n",
    "while (p > Tol):\n",
    "        p = p*0.1\n",
    "        print('p = {}'.format(p))"
   ]
  },
  {
   "cell_type": "markdown",
   "metadata": {},
   "source": [
    "**Ejercicio** Realizar un programa que genere un número entero aleatorio entre 1 y 10. El programa le va a pedir al ususario que adivine el número. Si el ususario falla que el programa le diga al usuario si el número aleatorio es mayor o menor. Utilizar un ciclo while para repetir  este proceso hasta que el usuario adivine. Hint: Para generar un número aleatorio entre 1 y 10 usa random.randint(1,10). Nota importar librería random"
   ]
  },
  {
   "cell_type": "code",
   "execution_count": null,
   "metadata": {},
   "outputs": [],
   "source": []
  },
  {
   "cell_type": "markdown",
   "metadata": {
    "id": "xSdcSV8Bb5b3"
   },
   "source": [
    "## Ciclos infinitos"
   ]
  },
  {
   "cell_type": "code",
   "execution_count": null,
   "metadata": {
    "id": "KEtkg8-Nb5b3"
   },
   "outputs": [],
   "source": [
    "a = 5\n",
    "b = 10\n",
    "h = 0\n",
    "Maxiter = 10\n",
    "#while a < b:\n",
    "while a < b and  h < Maxiter:\n",
    "    h= h+1\n",
    "    print(h, 'h')"
   ]
  },
  {
   "cell_type": "markdown",
   "metadata": {
    "id": "YEme7YRab5b4"
   },
   "source": [
    "### For\n",
    "El ciclo for sirve para realizar operaciones hasta que se cumpla una determinada condición. La sitaxis es como sigue.\n",
    "\n",
    "\\begin{array}{ll} \n",
    "for & \\text{variable in range(0,n):}     \\\\\n",
    "      & \\text{operaciones} \\\\ \n",
    "\\end{array}\n",
    "\n",
    "<center>\n",
    "<img src=\"https://github.com/gbdiazc/Images/blob/6998851d3c940565da46ba3aaa1e004a5b05f667/F_loop.png?raw=1\" width=\"300\"> \n",
    "</center>"
   ]
  },
  {
   "cell_type": "code",
   "execution_count": null,
   "metadata": {
    "colab": {
     "base_uri": "https://localhost:8080/"
    },
    "executionInfo": {
     "elapsed": 208,
     "status": "ok",
     "timestamp": 1681587163825,
     "user": {
      "displayName": "Luis Antonio",
      "userId": "10599916469398678728"
     },
     "user_tz": 360
    },
    "id": "f326j_EiZvCD",
    "outputId": "81a58b7a-58c4-4cbd-cb98-de6d03fa071e"
   },
   "outputs": [],
   "source": [
    "for i in range(0, 10):\n",
    "  print(i, ' ')"
   ]
  },
  {
   "cell_type": "code",
   "execution_count": null,
   "metadata": {
    "id": "FeON8Kmdb5b4"
   },
   "outputs": [],
   "source": [
    "# Ejemplo: este programa agrega valores a una lista a\n",
    "nMax = 15\n",
    "a = []\n",
    "for n in range(0,nMax):\n",
    "    a.append(n)\n",
    "print(a)"
   ]
  },
  {
   "cell_type": "markdown",
   "metadata": {
    "id": "CdSMKgREek7c"
   },
   "source": [
    "**Ejercicio.** Utiliza un ciclo para calcular el factorial de un número entero"
   ]
  },
  {
   "cell_type": "code",
   "execution_count": null,
   "metadata": {},
   "outputs": [],
   "source": []
  },
  {
   "cell_type": "markdown",
   "metadata": {
    "id": "1yp240_3b5b4"
   },
   "source": [
    "## Ciclos anidados"
   ]
  },
  {
   "cell_type": "code",
   "execution_count": null,
   "metadata": {
    "id": "SsX9VaA9b5b4"
   },
   "outputs": [],
   "source": [
    "n = 5\n",
    "m = 10\n",
    "\n",
    "for i in range (0,n):\n",
    "    for j in range(0,m):\n",
    "        print(i, j , 'i', 'j')"
   ]
  },
  {
   "cell_type": "markdown",
   "metadata": {
    "id": "iXF6TkuIb5b4"
   },
   "source": [
    "### Break y  Continue\n",
    "Pyhton permite a los desarrolladores detener un ciclo while o for de manera anticipada.\n",
    "\n",
    "\n",
    "## Break\n",
    "\n",
    "El comando break permite al desarrollador alterar el ciclo, basado en alguna condición, que probablemente no se puede predecir desde el principio del ciclo.\n",
    "El comando $break$ termina el ciclo, y el programa continua en la primera línea despues del ciclo. \n",
    "\n",
    "<center>\n",
    "<img src=\"https://github.com/gbdiazc/Images/blob/128288561942927b5377a6431a50a112d302e077/Break.png?raw=1\" width=\"400\">\n",
    "</center>"
   ]
  },
  {
   "cell_type": "code",
   "execution_count": null,
   "metadata": {},
   "outputs": [],
   "source": [
    "#break\n",
    "\n",
    "for i in range (0,10):\n",
    "    if i == 5:\n",
    "        break\n",
    "    print(i)"
   ]
  },
  {
   "cell_type": "markdown",
   "metadata": {},
   "source": [
    "## Continue\n",
    "El comando continue modifica el comportamiento dentro de los ciclos for y while.\n",
    "SIn embargo este comando no temrina todo el ciclo, solo termina la iteración actual y continua con el ciclo. Esto permite saltarse cierta parte de la iteración para determinados iterandos, pero continua con los restantes iterandos del ciclo.\n",
    "\n",
    "<center>\n",
    "<img src=\"https://github.com/gbdiazc/Images/blob/128288561942927b5377a6431a50a112d302e077/Continue.png?raw=1\" width=\"400\">\n",
    "</center>\n"
   ]
  },
  {
   "cell_type": "code",
   "execution_count": null,
   "metadata": {},
   "outputs": [],
   "source": [
    "\n",
    "#continue\n",
    "for i in range (0,10):\n",
    "    if i == 5:\n",
    "        continue\n",
    "    print(i)"
   ]
  },
  {
   "cell_type": "markdown",
   "metadata": {
    "id": "fIs5wZAIb5b4"
   },
   "source": [
    "**Ejercicio** Realizar un código que le pida al usuario ingresar un número hasta en 5 ocasiones y que el código pare si el usuario ingresa el numero cero"
   ]
  },
  {
   "cell_type": "code",
   "execution_count": null,
   "metadata": {},
   "outputs": [],
   "source": []
  },
  {
   "cell_type": "markdown",
   "metadata": {},
   "source": [
    "**Ejercicio** Realizar un código que imprima los número impares del 1 al 10. Utiliza la instrucción de continue. Hint. Puedes utilizar el módulo de un número entero."
   ]
  },
  {
   "cell_type": "code",
   "execution_count": 1,
   "metadata": {},
   "outputs": [
    {
     "ename": "SyntaxError",
     "evalue": "invalid syntax (2652738444.py, line 1)",
     "output_type": "error",
     "traceback": [
      "\u001b[1;36m  Cell \u001b[1;32mIn[1], line 1\u001b[1;36m\u001b[0m\n\u001b[1;33m    else:\u001b[0m\n\u001b[1;37m    ^\u001b[0m\n\u001b[1;31mSyntaxError\u001b[0m\u001b[1;31m:\u001b[0m invalid syntax\n"
     ]
    }
   ],
   "source": []
  },
  {
   "cell_type": "markdown",
   "metadata": {},
   "source": [
    "## Iterandos\n",
    "\n",
    "Un **Iterando** es cualquier objeto que se puede recorrer con un for.\n",
    "\n",
    "Ejemplos de objetos que pueden ser iterandos: Listas, tuplas, cadenas de texto, diccionarios, conjuntos "
   ]
  },
  {
   "cell_type": "code",
   "execution_count": null,
   "metadata": {},
   "outputs": [],
   "source": [
    "##Listas\n",
    "\n",
    "x= ['a', 5, 6, \"hola\"]\n",
    "\n",
    "for i in x:\n",
    "    print(i)"
   ]
  },
  {
   "cell_type": "code",
   "execution_count": null,
   "metadata": {},
   "outputs": [],
   "source": [
    "## Cadenas de texto\n",
    "b = \"hola mundo\"\n",
    "for j in b:\n",
    "    print(j)\n"
   ]
  },
  {
   "cell_type": "code",
   "execution_count": 8,
   "metadata": {},
   "outputs": [],
   "source": [
    "## Diccionarios\n",
    "\n",
    "mi_diccionario = {\n",
    "    \"Nombre\": \"Luis\",\n",
    "    \"Apellido\": \"de la Peña\",\n",
    "    \"Ciudad\": \"CDMX\",\n",
    "    \"Ocupación\" : \"Investigador\"\n",
    "}"
   ]
  },
  {
   "cell_type": "code",
   "execution_count": 11,
   "metadata": {},
   "outputs": [
    {
     "name": "stdout",
     "output_type": "stream",
     "text": [
      "Nombre\n",
      "Apellido\n",
      "Ciudad\n",
      "Ocupación\n"
     ]
    }
   ],
   "source": [
    "for clave in mi_diccionario:\n",
    "    print(clave)"
   ]
  },
  {
   "cell_type": "code",
   "execution_count": 14,
   "metadata": {},
   "outputs": [
    {
     "name": "stdout",
     "output_type": "stream",
     "text": [
      "Nombre : Luis\n",
      "Apellido : de la Peña\n",
      "Ciudad : CDMX\n",
      "Ocupación : Investigador\n"
     ]
    }
   ],
   "source": [
    "for clave, valor in mi_diccionario.items():\n",
    "    print(clave, ':', valor)"
   ]
  },
  {
   "cell_type": "code",
   "execution_count": 16,
   "metadata": {},
   "outputs": [
    {
     "name": "stdout",
     "output_type": "stream",
     "text": [
      "Luis\n",
      "de la Peña\n",
      "CDMX\n",
      "Investigador\n"
     ]
    }
   ],
   "source": [
    "for valor in mi_diccionario.values():\n",
    "    print(valor)"
   ]
  },
  {
   "cell_type": "code",
   "execution_count": 17,
   "metadata": {},
   "outputs": [
    {
     "data": {
      "text/plain": [
       "dict_items([('Nombre', 'Luis'), ('Apellido', 'de la Peña'), ('Ciudad', 'CDMX'), ('Ocupación', 'Investigador')])"
      ]
     },
     "execution_count": 17,
     "metadata": {},
     "output_type": "execute_result"
    }
   ],
   "source": [
    "mi_diccionario.items()"
   ]
  },
  {
   "cell_type": "code",
   "execution_count": null,
   "metadata": {},
   "outputs": [],
   "source": []
  }
 ],
 "metadata": {
  "colab": {
   "provenance": []
  },
  "kernelspec": {
   "display_name": "Python 3 (ipykernel)",
   "language": "python",
   "name": "python3"
  },
  "language_info": {
   "codemirror_mode": {
    "name": "ipython",
    "version": 3
   },
   "file_extension": ".py",
   "mimetype": "text/x-python",
   "name": "python",
   "nbconvert_exporter": "python",
   "pygments_lexer": "ipython3",
   "version": "3.12.4"
  }
 },
 "nbformat": 4,
 "nbformat_minor": 4
}
